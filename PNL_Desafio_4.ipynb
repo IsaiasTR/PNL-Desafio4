{
  "nbformat": 4,
  "nbformat_minor": 0,
  "metadata": {
    "colab": {
      "provenance": []
    },
    "kernelspec": {
      "name": "python3",
      "display_name": "Python 3"
    },
    "language_info": {
      "name": "python"
    }
  },
  "cells": [
    {
      "cell_type": "markdown",
      "source": [
        "# Procesamiento de lenguaje natural\n",
        "## LSTM Bot QA"
      ],
      "metadata": {
        "id": "Q_rlYO6Y4064"
      }
    },
    {
      "cell_type": "markdown",
      "source": [
        "### Datos\n",
        "El objetivo es utilizar datos disponibles del challenge ConvAI2 (Conversational Intelligence Challenge 2) de conversaciones en inglés. Se construirá un BOT para responder a preguntas del usuario (QA).\\\n",
        "[LINK](http://convai.io/data/)"
      ],
      "metadata": {
        "id": "SlIyPEwF491D"
      }
    },
    {
      "cell_type": "code",
      "source": [
        "!pip install --upgrade --no-cache-dir gdown --quiet"
      ],
      "metadata": {
        "id": "h28MHkjK5C95"
      },
      "execution_count": null,
      "outputs": []
    },
    {
      "cell_type": "markdown",
      "source": [
        "Importamos las librerias necesarias"
      ],
      "metadata": {
        "id": "rbc44Mwd_nKu"
      }
    },
    {
      "cell_type": "code",
      "source": [
        "import re\n",
        "import numpy as np\n",
        "import os\n",
        "import gdown\n",
        "import json\n",
        "import pandas as pd\n",
        "import tensorflow as tf\n",
        "import matplotlib.pyplot as plt\n",
        "\n",
        "from tensorflow.keras.preprocessing.text import one_hot, Tokenizer\n",
        "from tensorflow.keras import layers, models, utils\n",
        "from sklearn.model_selection import train_test_split\n",
        "\n",
        "from tensorflow.keras import Model\n",
        "from tensorflow.keras.layers import Input, LSTM, Dense\n",
        "\n",
        "from tensorflow.keras.preprocessing.sequence import pad_sequences\n",
        "\n",
        "from tensorflow.keras.layers import Embedding"
      ],
      "metadata": {
        "id": "qabfSqw25PEA"
      },
      "execution_count": null,
      "outputs": []
    },
    {
      "cell_type": "code",
      "source": [
        "# Descargamos la carpeta de dataset\n",
        "if os.access('data_volunteers.json', os.F_OK) is False:\n",
        "    url = 'https://drive.google.com/uc?id=1awUxYwImF84MIT5-jCaYAPe2QwSgS1hN&export=download'\n",
        "    output = 'data_volunteers.json'\n",
        "    gdown.download(url, output, quiet=False)\n",
        "else:\n",
        "    print(\"El dataset ya se encuentra descargado\")"
      ],
      "metadata": {
        "colab": {
          "base_uri": "https://localhost:8080/"
        },
        "id": "WnVRQzv25LZK",
        "outputId": "f490578f-44df-4d9e-bff1-541dc44a3259"
      },
      "execution_count": null,
      "outputs": [
        {
          "output_type": "stream",
          "name": "stderr",
          "text": [
            "Downloading...\n",
            "From: https://drive.google.com/uc?id=1awUxYwImF84MIT5-jCaYAPe2QwSgS1hN&export=download\n",
            "To: /content/data_volunteers.json\n",
            "100%|██████████| 2.58M/2.58M [00:00<00:00, 70.2MB/s]\n"
          ]
        }
      ]
    },
    {
      "cell_type": "code",
      "source": [
        "# dataset_file\n",
        "text_file = \"data_volunteers.json\"\n",
        "with open(text_file) as f:\n",
        "    data = json.load(f) # la variable data será un diccionario"
      ],
      "metadata": {
        "id": "jUZ7aYGa6KKA"
      },
      "execution_count": null,
      "outputs": []
    },
    {
      "cell_type": "code",
      "source": [
        "# Observamos los campos disponibles en cada linea del dataset\n",
        "data[0].keys()"
      ],
      "metadata": {
        "colab": {
          "base_uri": "https://localhost:8080/"
        },
        "id": "rweDxB_26OaC",
        "outputId": "d7771185-3456-472f-b319-1edefc589ff2"
      },
      "execution_count": null,
      "outputs": [
        {
          "output_type": "execute_result",
          "data": {
            "text/plain": [
              "dict_keys(['dialog', 'start_time', 'end_time', 'bot_profile', 'user_profile', 'eval_score', 'profile_match', 'participant1_id', 'participant2_id'])"
            ]
          },
          "metadata": {},
          "execution_count": 6
        }
      ]
    },
    {
      "cell_type": "code",
      "source": [
        "chat_in = []\n",
        "chat_out = []\n",
        "\n",
        "input_sentences = [] # oraciones de entrada\n",
        "output_sentences = [] # oraciones de salida\n",
        "output_sentences_inputs = [] # oraciones de salida con <sos>\n",
        "max_len = 30\n",
        "\n",
        "def clean_text(txt):\n",
        "    txt = txt.lower()\n",
        "    txt.replace(\"\\'d\", \" had\")\n",
        "    txt.replace(\"\\'s\", \" is\")\n",
        "    txt.replace(\"\\'m\", \" am\")\n",
        "    txt.replace(\"don't\", \"do not\")\n",
        "    txt = re.sub(r'\\W+', ' ', txt)\n",
        "\n",
        "    return txt\n",
        "\n",
        "for line in data:\n",
        "    for i in range(len(line['dialog'])-1):\n",
        "        # vamos separando el texto en \"preguntas\" (chat_in)\n",
        "        # y \"respuestas\" (chat_out)\n",
        "        chat_in = clean_text(line['dialog'][i]['text'])\n",
        "        chat_out = clean_text(line['dialog'][i+1]['text'])\n",
        "\n",
        "        if len(chat_in) >= max_len or len(chat_out) >= max_len:\n",
        "            continue\n",
        "\n",
        "        input_sentence, output = chat_in, chat_out\n",
        "\n",
        "        # output sentence (decoder_output) tiene <eos>\n",
        "        output_sentence = output + ' <eos>'\n",
        "        # output sentence input (decoder_input) tiene <sos>\n",
        "        output_sentence_input = '<sos> ' + output\n",
        "\n",
        "        input_sentences.append(input_sentence)\n",
        "        output_sentences.append(output_sentence)\n",
        "        output_sentences_inputs.append(output_sentence_input)\n",
        "\n",
        "print(\"Cantidad de rows utilizadas:\", len(input_sentences))"
      ],
      "metadata": {
        "colab": {
          "base_uri": "https://localhost:8080/"
        },
        "id": "F1TwnmYo6TRw",
        "outputId": "c7533447-364d-44ea-b26e-1e64488cfc26"
      },
      "execution_count": null,
      "outputs": [
        {
          "output_type": "stream",
          "name": "stdout",
          "text": [
            "Cantidad de rows utilizadas: 6033\n"
          ]
        }
      ]
    },
    {
      "cell_type": "code",
      "source": [
        "input_sentences[1], output_sentences[1], output_sentences_inputs[1]"
      ],
      "metadata": {
        "colab": {
          "base_uri": "https://localhost:8080/"
        },
        "id": "KA3NqQ7f6YDq",
        "outputId": "960871a8-cb5c-4ab5-8066-55fcecd83f53"
      },
      "execution_count": null,
      "outputs": [
        {
          "output_type": "execute_result",
          "data": {
            "text/plain": [
              "('hi how are you ', 'not bad and you  <eos>', '<sos> not bad and you ')"
            ]
          },
          "metadata": {},
          "execution_count": 8
        }
      ]
    },
    {
      "cell_type": "markdown",
      "source": [
        "### 2 - Preprocesamiento\n",
        "Realizar el preprocesamiento necesario para obtener:\n",
        "- word2idx_inputs, max_input_len\n",
        "- word2idx_outputs, max_out_len, num_words_output\n",
        "- encoder_input_sequences, decoder_output_sequences, decoder_targets"
      ],
      "metadata": {
        "id": "vBo5nu306jHQ"
      }
    },
    {
      "cell_type": "code",
      "source": [
        "# Inicializamos el Tokenizer para las entradas\n",
        "tokenizer_inputs = Tokenizer()\n",
        "tokenizer_inputs.fit_on_texts(input_sentences)"
      ],
      "metadata": {
        "id": "ROhgBshx_eey"
      },
      "execution_count": null,
      "outputs": []
    },
    {
      "cell_type": "code",
      "source": [
        "# Convertimos las frases de entrada a secuencias de enteros\n",
        "encoder_input_sequences = tokenizer_inputs.texts_to_sequences(input_sentences)"
      ],
      "metadata": {
        "id": "vEGAUIBm_nI-"
      },
      "execution_count": null,
      "outputs": []
    },
    {
      "cell_type": "code",
      "source": [
        "# Calculamos el largo máximo de las secuencias de entrada\n",
        "max_input_len = max([len(seq) for seq in encoder_input_sequences])"
      ],
      "metadata": {
        "id": "z0F6CtUp_yWq"
      },
      "execution_count": null,
      "outputs": []
    },
    {
      "cell_type": "code",
      "source": [
        "# Creamos el diccionario de palabras a índices para las entradas\n",
        "word2idx_inputs = tokenizer_inputs.word_index\n",
        "print('Tamaño del vocabulario de entrada:', len(word2idx_inputs))"
      ],
      "metadata": {
        "colab": {
          "base_uri": "https://localhost:8080/"
        },
        "id": "77eMP92Y_3dp",
        "outputId": "bc86be2d-f274-4388-aab7-78e495709843"
      },
      "execution_count": null,
      "outputs": [
        {
          "output_type": "stream",
          "name": "stdout",
          "text": [
            "Tamaño del vocabulario de entrada: 1799\n"
          ]
        }
      ]
    },
    {
      "cell_type": "code",
      "source": [
        "# Inicializamos el Tokenizer para las salidas\n",
        "tokenizer_outputs = Tokenizer()\n",
        "tokenizer_outputs.fit_on_texts(output_sentences + output_sentences_inputs)"
      ],
      "metadata": {
        "id": "EA82JwD-_7Qd"
      },
      "execution_count": null,
      "outputs": []
    },
    {
      "cell_type": "code",
      "source": [
        "# Convertimos las frases de salida a secuencias de enteros\n",
        "decoder_output_sequences = tokenizer_outputs.texts_to_sequences(output_sentences)\n",
        "decoder_input_sequences = tokenizer_outputs.texts_to_sequences(output_sentences_inputs)"
      ],
      "metadata": {
        "id": "PaR6IbUQ__0C"
      },
      "execution_count": null,
      "outputs": []
    },
    {
      "cell_type": "code",
      "source": [
        "# Calculamos el largo máximo de las secuencias de salida\n",
        "max_out_len = max([len(seq) for seq in decoder_output_sequences])"
      ],
      "metadata": {
        "id": "uzzmJiigADvm"
      },
      "execution_count": null,
      "outputs": []
    },
    {
      "cell_type": "code",
      "source": [
        "# Creamos el diccionario de palabras a índices para las salidas\n",
        "word2idx_outputs = tokenizer_outputs.word_index\n",
        "\n",
        "# Asegúrate de incluir '<sos>' y '<eos>' en el vocabulario de salida\n",
        "word2idx_outputs['<sos>'] = len(word2idx_outputs) + 1\n",
        "word2idx_outputs['<eos>'] = len(word2idx_outputs) + 1\n",
        "\n",
        "# Imprimimos el tamaño del vocabulario de salida\n",
        "print('Tamaño del vocabulario de salida:', len(word2idx_outputs))\n",
        "\n",
        "# Imprimimos una muestra del diccionario\n",
        "print({k: word2idx_outputs[k] for k in list(word2idx_outputs)[:10]})"
      ],
      "metadata": {
        "colab": {
          "base_uri": "https://localhost:8080/"
        },
        "id": "iu73u6exAH5D",
        "outputId": "7f077270-cfeb-469f-b863-7d00f94a1628"
      },
      "execution_count": null,
      "outputs": [
        {
          "output_type": "stream",
          "name": "stdout",
          "text": [
            "Tamaño del vocabulario de salida: 1808\n",
            "{'eos': 1, 'sos': 2, 'you': 3, 'i': 4, 'do': 5, 'what': 6, 'a': 7, 'are': 8, 'to': 9, 'for': 10}\n"
          ]
        }
      ]
    },
    {
      "cell_type": "code",
      "source": [
        "print(f\"<sos>: {word2idx_outputs.get('<sos>')}, <eos>: {word2idx_outputs.get('<eos>')}\")"
      ],
      "metadata": {
        "colab": {
          "base_uri": "https://localhost:8080/"
        },
        "id": "65GaktFR43b7",
        "outputId": "d6375c0a-69fc-4f72-a5ce-68ff3650a527"
      },
      "execution_count": null,
      "outputs": [
        {
          "output_type": "stream",
          "name": "stdout",
          "text": [
            "<sos>: 1807, <eos>: 1808\n"
          ]
        }
      ]
    },
    {
      "cell_type": "code",
      "source": [
        "# Calculamos el número de palabras en el vocabulario de salida\n",
        "num_words_output = len(word2idx_outputs) + 1  # +1 por el padding o out-of-vocabulary\n",
        "print('Número de palabras en el vocabulario de salida:', num_words_output)"
      ],
      "metadata": {
        "colab": {
          "base_uri": "https://localhost:8080/"
        },
        "id": "G_H3FbOfAMYe",
        "outputId": "2c854b78-f3de-4584-ddb4-fd07aa80a58f"
      },
      "execution_count": null,
      "outputs": [
        {
          "output_type": "stream",
          "name": "stdout",
          "text": [
            "Número de palabras en el vocabulario de salida: 1809\n"
          ]
        }
      ]
    },
    {
      "cell_type": "code",
      "source": [
        "# Visualizamos los largos máximos\n",
        "print(f\"Largo máximo de las secuencias de entrada: {max_input_len}\")\n",
        "print(f\"Largo máximo de las secuencias de salida: {max_out_len}\")"
      ],
      "metadata": {
        "colab": {
          "base_uri": "https://localhost:8080/"
        },
        "id": "iElOxDcvAQkM",
        "outputId": "39ba1c90-a910-4b5e-b207-46e4533f853b"
      },
      "execution_count": null,
      "outputs": [
        {
          "output_type": "stream",
          "name": "stdout",
          "text": [
            "Largo máximo de las secuencias de entrada: 9\n",
            "Largo máximo de las secuencias de salida: 10\n"
          ]
        }
      ]
    },
    {
      "cell_type": "markdown",
      "source": [
        "### 3 - Preparar los embeddings\n",
        "Utilizar los embeddings de Glove o FastText para transformar los tokens de entrada en vectores"
      ],
      "metadata": {
        "id": "fP_X5hNm6nyx"
      }
    },
    {
      "cell_type": "code",
      "source": [
        "# Descargamos el embeddings Glove\n",
        "!wget http://nlp.stanford.edu/data/glove.6B.zip\n",
        "!unzip glove.6B.zip"
      ],
      "metadata": {
        "id": "r2deTk7vAp6P"
      },
      "execution_count": null,
      "outputs": []
    },
    {
      "cell_type": "code",
      "source": [
        "# Cargamos los embeddings preentrenados de Glove\n",
        "# Ruta a los embeddings de GloVe (100 dimensiones)\n",
        "glove_file = 'glove.6B.100d.txt'\n",
        "\n",
        "# Cargamos los embeddings preentrenados en un diccionario\n",
        "embeddings_index = {}\n",
        "with open(glove_file, 'r', encoding='utf-8') as f:\n",
        "    for line in f:\n",
        "        values = line.split()\n",
        "        word = values[0]\n",
        "        vector = np.asarray(values[1:], dtype='float32')\n",
        "        embeddings_index[word] = vector\n",
        "\n",
        "print(f\"Se cargaron {len(embeddings_index)} embeddings preentrenados.\")"
      ],
      "metadata": {
        "colab": {
          "base_uri": "https://localhost:8080/"
        },
        "id": "KoSAvOTeBz-l",
        "outputId": "e29dfcee-e4ec-4c0a-97eb-a13c745337fe"
      },
      "execution_count": null,
      "outputs": [
        {
          "output_type": "stream",
          "name": "stdout",
          "text": [
            "Se cargaron 400000 embeddings preentrenados.\n"
          ]
        }
      ]
    },
    {
      "cell_type": "markdown",
      "source": [
        "Creamos la matriz embedding"
      ],
      "metadata": {
        "id": "tNcQtV2JBfBD"
      }
    },
    {
      "cell_type": "code",
      "source": [
        "# Dimensión de los embeddings (100 en este caso)\n",
        "embedding_dim = 100\n",
        "# Número total de palabras en el vocabulario de entrada\n",
        "num_words_input = len(word2idx_inputs) + 1  # +1 para el padding\n",
        "\n",
        "# Inicializamos la matriz de embeddings (con vectores aleatorios si la palabra no está en GloVe)\n",
        "embedding_matrix = np.zeros((num_words_input, embedding_dim))\n",
        "for word, idx in word2idx_inputs.items():\n",
        "    if idx < num_words_input:\n",
        "        embedding_vector = embeddings_index.get(word)\n",
        "        if embedding_vector is not None:\n",
        "            # Si la palabra está en GloVe, utilizamos su vector\n",
        "            embedding_matrix[idx] = embedding_vector\n",
        "        else:\n",
        "            # Si la palabra no está en GloVe, le asignamos un vector aleatorio\n",
        "            embedding_matrix[idx] = np.random.uniform(-0.05, 0.05, embedding_dim)\n",
        "print(f\"Matriz de embeddings creada con tamaño: {embedding_matrix.shape}\")"
      ],
      "metadata": {
        "colab": {
          "base_uri": "https://localhost:8080/"
        },
        "id": "O1kkV_8lCINc",
        "outputId": "62489243-8073-4f5f-9a49-c2d6684106f5"
      },
      "execution_count": null,
      "outputs": [
        {
          "output_type": "stream",
          "name": "stdout",
          "text": [
            "Matriz de embeddings creada con tamaño: (1800, 100)\n"
          ]
        }
      ]
    },
    {
      "cell_type": "markdown",
      "source": [
        "Usamos la matriz de embedding en la capa embedding de Keras"
      ],
      "metadata": {
        "id": "q9zzf8rLBziw"
      }
    },
    {
      "cell_type": "code",
      "source": [
        "# Definimos la capa de embeddings con pesos preentrenados\n",
        "embedding_layer = Embedding(input_dim=num_words_input,\n",
        "                            output_dim=embedding_dim,\n",
        "                            weights=[embedding_matrix],\n",
        "                            trainable=False)  # Congelamos los pesos para que no se entrenen"
      ],
      "metadata": {
        "id": "6-CxPtT5CXnj"
      },
      "execution_count": null,
      "outputs": []
    },
    {
      "cell_type": "markdown",
      "source": [
        "### 4 - Entrenar el modelo\n",
        "Entrenar un modelo basado en el esquema encoder-decoder utilizando los datos generados en los puntos anteriores. Utilce como referencias los ejemplos vistos en clase."
      ],
      "metadata": {
        "id": "gGYJnX_J6s1p"
      }
    },
    {
      "cell_type": "markdown",
      "source": [
        "Definimos el modelo Encoder - Decoder"
      ],
      "metadata": {
        "id": "_aueq7tnCBCP"
      }
    },
    {
      "cell_type": "code",
      "source": [
        "# Encoder\n",
        "encoder_inputs = Input(shape=(None,), name='input_1')\n",
        "encoder_embedding = Embedding(input_dim= 8000, output_dim=50, input_length=9, name='embedding_1')(encoder_inputs)\n",
        "encoder_lstm = LSTM(256, return_sequences=False, return_state=True, dropout=0.2, name='lstm_1')\n",
        "encoder_outputs, state_h, state_c = encoder_lstm(encoder_embedding)\n",
        "encoder_states = [state_h, state_c]\n",
        "\n",
        "# Decoder\n",
        "decoder_inputs = Input(shape=(None,), name='input_2')\n",
        "decoder_embedding = Embedding(input_dim= 8000, output_dim=50, input_length=10, name='embedding_2')(decoder_inputs)\n",
        "decoder_lstm = LSTM(256, return_sequences=True, return_state=True, dropout=0.2, name='lstm_2')\n",
        "decoder_outputs, _, _ = decoder_lstm(decoder_embedding, initial_state=encoder_states)\n",
        "decoder_dense = Dense(num_words_output, activation='softmax', name='dense_1')\n",
        "decoder_outputs = decoder_dense(decoder_outputs)\n",
        "\n",
        "# Definir el modelo completo\n",
        "model = Model([encoder_inputs, decoder_inputs], decoder_outputs)\n",
        "\n",
        "# Resumen del modelo para comparar con la arquitectura del gráfico\n",
        "model.summary()"
      ],
      "metadata": {
        "colab": {
          "base_uri": "https://localhost:8080/",
          "height": 466
        },
        "id": "wAE0Z8VUDlea",
        "outputId": "b7600d7c-2b06-4d76-ee4f-10b2adce16a9"
      },
      "execution_count": null,
      "outputs": [
        {
          "output_type": "stream",
          "name": "stderr",
          "text": [
            "/usr/local/lib/python3.10/dist-packages/keras/src/layers/core/embedding.py:90: UserWarning: Argument `input_length` is deprecated. Just remove it.\n",
            "  warnings.warn(\n"
          ]
        },
        {
          "output_type": "display_data",
          "data": {
            "text/plain": [
              "\u001b[1mModel: \"functional\"\u001b[0m\n"
            ],
            "text/html": [
              "<pre style=\"white-space:pre;overflow-x:auto;line-height:normal;font-family:Menlo,'DejaVu Sans Mono',consolas,'Courier New',monospace\"><span style=\"font-weight: bold\">Model: \"functional\"</span>\n",
              "</pre>\n"
            ]
          },
          "metadata": {}
        },
        {
          "output_type": "display_data",
          "data": {
            "text/plain": [
              "┏━━━━━━━━━━━━━━━━━━━━━━━━━━━┳━━━━━━━━━━━━━━━━━━━━━━━━┳━━━━━━━━━━━━━━━━┳━━━━━━━━━━━━━━━━━━━━━━━━┓\n",
              "┃\u001b[1m \u001b[0m\u001b[1mLayer (type)             \u001b[0m\u001b[1m \u001b[0m┃\u001b[1m \u001b[0m\u001b[1mOutput Shape          \u001b[0m\u001b[1m \u001b[0m┃\u001b[1m \u001b[0m\u001b[1m       Param #\u001b[0m\u001b[1m \u001b[0m┃\u001b[1m \u001b[0m\u001b[1mConnected to          \u001b[0m\u001b[1m \u001b[0m┃\n",
              "┡━━━━━━━━━━━━━━━━━━━━━━━━━━━╇━━━━━━━━━━━━━━━━━━━━━━━━╇━━━━━━━━━━━━━━━━╇━━━━━━━━━━━━━━━━━━━━━━━━┩\n",
              "│ input_1 (\u001b[38;5;33mInputLayer\u001b[0m)      │ (\u001b[38;5;45mNone\u001b[0m, \u001b[38;5;45mNone\u001b[0m)           │              \u001b[38;5;34m0\u001b[0m │ -                      │\n",
              "├───────────────────────────┼────────────────────────┼────────────────┼────────────────────────┤\n",
              "│ input_2 (\u001b[38;5;33mInputLayer\u001b[0m)      │ (\u001b[38;5;45mNone\u001b[0m, \u001b[38;5;45mNone\u001b[0m)           │              \u001b[38;5;34m0\u001b[0m │ -                      │\n",
              "├───────────────────────────┼────────────────────────┼────────────────┼────────────────────────┤\n",
              "│ embedding_1 (\u001b[38;5;33mEmbedding\u001b[0m)   │ (\u001b[38;5;45mNone\u001b[0m, \u001b[38;5;45mNone\u001b[0m, \u001b[38;5;34m50\u001b[0m)       │        \u001b[38;5;34m400,000\u001b[0m │ input_1[\u001b[38;5;34m0\u001b[0m][\u001b[38;5;34m0\u001b[0m]          │\n",
              "├───────────────────────────┼────────────────────────┼────────────────┼────────────────────────┤\n",
              "│ embedding_2 (\u001b[38;5;33mEmbedding\u001b[0m)   │ (\u001b[38;5;45mNone\u001b[0m, \u001b[38;5;45mNone\u001b[0m, \u001b[38;5;34m50\u001b[0m)       │        \u001b[38;5;34m400,000\u001b[0m │ input_2[\u001b[38;5;34m0\u001b[0m][\u001b[38;5;34m0\u001b[0m]          │\n",
              "├───────────────────────────┼────────────────────────┼────────────────┼────────────────────────┤\n",
              "│ lstm_1 (\u001b[38;5;33mLSTM\u001b[0m)             │ [(\u001b[38;5;45mNone\u001b[0m, \u001b[38;5;34m256\u001b[0m), (\u001b[38;5;45mNone\u001b[0m,   │        \u001b[38;5;34m314,368\u001b[0m │ embedding_1[\u001b[38;5;34m0\u001b[0m][\u001b[38;5;34m0\u001b[0m]      │\n",
              "│                           │ \u001b[38;5;34m256\u001b[0m), (\u001b[38;5;45mNone\u001b[0m, \u001b[38;5;34m256\u001b[0m)]     │                │                        │\n",
              "├───────────────────────────┼────────────────────────┼────────────────┼────────────────────────┤\n",
              "│ lstm_2 (\u001b[38;5;33mLSTM\u001b[0m)             │ [(\u001b[38;5;45mNone\u001b[0m, \u001b[38;5;45mNone\u001b[0m, \u001b[38;5;34m256\u001b[0m),    │        \u001b[38;5;34m314,368\u001b[0m │ embedding_2[\u001b[38;5;34m0\u001b[0m][\u001b[38;5;34m0\u001b[0m],     │\n",
              "│                           │ (\u001b[38;5;45mNone\u001b[0m, \u001b[38;5;34m256\u001b[0m), (\u001b[38;5;45mNone\u001b[0m,    │                │ lstm_1[\u001b[38;5;34m0\u001b[0m][\u001b[38;5;34m1\u001b[0m],          │\n",
              "│                           │ \u001b[38;5;34m256\u001b[0m)]                  │                │ lstm_1[\u001b[38;5;34m0\u001b[0m][\u001b[38;5;34m2\u001b[0m]           │\n",
              "├───────────────────────────┼────────────────────────┼────────────────┼────────────────────────┤\n",
              "│ dense_1 (\u001b[38;5;33mDense\u001b[0m)           │ (\u001b[38;5;45mNone\u001b[0m, \u001b[38;5;45mNone\u001b[0m, \u001b[38;5;34m1809\u001b[0m)     │        \u001b[38;5;34m464,913\u001b[0m │ lstm_2[\u001b[38;5;34m0\u001b[0m][\u001b[38;5;34m0\u001b[0m]           │\n",
              "└───────────────────────────┴────────────────────────┴────────────────┴────────────────────────┘\n"
            ],
            "text/html": [
              "<pre style=\"white-space:pre;overflow-x:auto;line-height:normal;font-family:Menlo,'DejaVu Sans Mono',consolas,'Courier New',monospace\">┏━━━━━━━━━━━━━━━━━━━━━━━━━━━┳━━━━━━━━━━━━━━━━━━━━━━━━┳━━━━━━━━━━━━━━━━┳━━━━━━━━━━━━━━━━━━━━━━━━┓\n",
              "┃<span style=\"font-weight: bold\"> Layer (type)              </span>┃<span style=\"font-weight: bold\"> Output Shape           </span>┃<span style=\"font-weight: bold\">        Param # </span>┃<span style=\"font-weight: bold\"> Connected to           </span>┃\n",
              "┡━━━━━━━━━━━━━━━━━━━━━━━━━━━╇━━━━━━━━━━━━━━━━━━━━━━━━╇━━━━━━━━━━━━━━━━╇━━━━━━━━━━━━━━━━━━━━━━━━┩\n",
              "│ input_1 (<span style=\"color: #0087ff; text-decoration-color: #0087ff\">InputLayer</span>)      │ (<span style=\"color: #00d7ff; text-decoration-color: #00d7ff\">None</span>, <span style=\"color: #00d7ff; text-decoration-color: #00d7ff\">None</span>)           │              <span style=\"color: #00af00; text-decoration-color: #00af00\">0</span> │ -                      │\n",
              "├───────────────────────────┼────────────────────────┼────────────────┼────────────────────────┤\n",
              "│ input_2 (<span style=\"color: #0087ff; text-decoration-color: #0087ff\">InputLayer</span>)      │ (<span style=\"color: #00d7ff; text-decoration-color: #00d7ff\">None</span>, <span style=\"color: #00d7ff; text-decoration-color: #00d7ff\">None</span>)           │              <span style=\"color: #00af00; text-decoration-color: #00af00\">0</span> │ -                      │\n",
              "├───────────────────────────┼────────────────────────┼────────────────┼────────────────────────┤\n",
              "│ embedding_1 (<span style=\"color: #0087ff; text-decoration-color: #0087ff\">Embedding</span>)   │ (<span style=\"color: #00d7ff; text-decoration-color: #00d7ff\">None</span>, <span style=\"color: #00d7ff; text-decoration-color: #00d7ff\">None</span>, <span style=\"color: #00af00; text-decoration-color: #00af00\">50</span>)       │        <span style=\"color: #00af00; text-decoration-color: #00af00\">400,000</span> │ input_1[<span style=\"color: #00af00; text-decoration-color: #00af00\">0</span>][<span style=\"color: #00af00; text-decoration-color: #00af00\">0</span>]          │\n",
              "├───────────────────────────┼────────────────────────┼────────────────┼────────────────────────┤\n",
              "│ embedding_2 (<span style=\"color: #0087ff; text-decoration-color: #0087ff\">Embedding</span>)   │ (<span style=\"color: #00d7ff; text-decoration-color: #00d7ff\">None</span>, <span style=\"color: #00d7ff; text-decoration-color: #00d7ff\">None</span>, <span style=\"color: #00af00; text-decoration-color: #00af00\">50</span>)       │        <span style=\"color: #00af00; text-decoration-color: #00af00\">400,000</span> │ input_2[<span style=\"color: #00af00; text-decoration-color: #00af00\">0</span>][<span style=\"color: #00af00; text-decoration-color: #00af00\">0</span>]          │\n",
              "├───────────────────────────┼────────────────────────┼────────────────┼────────────────────────┤\n",
              "│ lstm_1 (<span style=\"color: #0087ff; text-decoration-color: #0087ff\">LSTM</span>)             │ [(<span style=\"color: #00d7ff; text-decoration-color: #00d7ff\">None</span>, <span style=\"color: #00af00; text-decoration-color: #00af00\">256</span>), (<span style=\"color: #00d7ff; text-decoration-color: #00d7ff\">None</span>,   │        <span style=\"color: #00af00; text-decoration-color: #00af00\">314,368</span> │ embedding_1[<span style=\"color: #00af00; text-decoration-color: #00af00\">0</span>][<span style=\"color: #00af00; text-decoration-color: #00af00\">0</span>]      │\n",
              "│                           │ <span style=\"color: #00af00; text-decoration-color: #00af00\">256</span>), (<span style=\"color: #00d7ff; text-decoration-color: #00d7ff\">None</span>, <span style=\"color: #00af00; text-decoration-color: #00af00\">256</span>)]     │                │                        │\n",
              "├───────────────────────────┼────────────────────────┼────────────────┼────────────────────────┤\n",
              "│ lstm_2 (<span style=\"color: #0087ff; text-decoration-color: #0087ff\">LSTM</span>)             │ [(<span style=\"color: #00d7ff; text-decoration-color: #00d7ff\">None</span>, <span style=\"color: #00d7ff; text-decoration-color: #00d7ff\">None</span>, <span style=\"color: #00af00; text-decoration-color: #00af00\">256</span>),    │        <span style=\"color: #00af00; text-decoration-color: #00af00\">314,368</span> │ embedding_2[<span style=\"color: #00af00; text-decoration-color: #00af00\">0</span>][<span style=\"color: #00af00; text-decoration-color: #00af00\">0</span>],     │\n",
              "│                           │ (<span style=\"color: #00d7ff; text-decoration-color: #00d7ff\">None</span>, <span style=\"color: #00af00; text-decoration-color: #00af00\">256</span>), (<span style=\"color: #00d7ff; text-decoration-color: #00d7ff\">None</span>,    │                │ lstm_1[<span style=\"color: #00af00; text-decoration-color: #00af00\">0</span>][<span style=\"color: #00af00; text-decoration-color: #00af00\">1</span>],          │\n",
              "│                           │ <span style=\"color: #00af00; text-decoration-color: #00af00\">256</span>)]                  │                │ lstm_1[<span style=\"color: #00af00; text-decoration-color: #00af00\">0</span>][<span style=\"color: #00af00; text-decoration-color: #00af00\">2</span>]           │\n",
              "├───────────────────────────┼────────────────────────┼────────────────┼────────────────────────┤\n",
              "│ dense_1 (<span style=\"color: #0087ff; text-decoration-color: #0087ff\">Dense</span>)           │ (<span style=\"color: #00d7ff; text-decoration-color: #00d7ff\">None</span>, <span style=\"color: #00d7ff; text-decoration-color: #00d7ff\">None</span>, <span style=\"color: #00af00; text-decoration-color: #00af00\">1809</span>)     │        <span style=\"color: #00af00; text-decoration-color: #00af00\">464,913</span> │ lstm_2[<span style=\"color: #00af00; text-decoration-color: #00af00\">0</span>][<span style=\"color: #00af00; text-decoration-color: #00af00\">0</span>]           │\n",
              "└───────────────────────────┴────────────────────────┴────────────────┴────────────────────────┘\n",
              "</pre>\n"
            ]
          },
          "metadata": {}
        },
        {
          "output_type": "display_data",
          "data": {
            "text/plain": [
              "\u001b[1m Total params: \u001b[0m\u001b[38;5;34m1,893,649\u001b[0m (7.22 MB)\n"
            ],
            "text/html": [
              "<pre style=\"white-space:pre;overflow-x:auto;line-height:normal;font-family:Menlo,'DejaVu Sans Mono',consolas,'Courier New',monospace\"><span style=\"font-weight: bold\"> Total params: </span><span style=\"color: #00af00; text-decoration-color: #00af00\">1,893,649</span> (7.22 MB)\n",
              "</pre>\n"
            ]
          },
          "metadata": {}
        },
        {
          "output_type": "display_data",
          "data": {
            "text/plain": [
              "\u001b[1m Trainable params: \u001b[0m\u001b[38;5;34m1,893,649\u001b[0m (7.22 MB)\n"
            ],
            "text/html": [
              "<pre style=\"white-space:pre;overflow-x:auto;line-height:normal;font-family:Menlo,'DejaVu Sans Mono',consolas,'Courier New',monospace\"><span style=\"font-weight: bold\"> Trainable params: </span><span style=\"color: #00af00; text-decoration-color: #00af00\">1,893,649</span> (7.22 MB)\n",
              "</pre>\n"
            ]
          },
          "metadata": {}
        },
        {
          "output_type": "display_data",
          "data": {
            "text/plain": [
              "\u001b[1m Non-trainable params: \u001b[0m\u001b[38;5;34m0\u001b[0m (0.00 B)\n"
            ],
            "text/html": [
              "<pre style=\"white-space:pre;overflow-x:auto;line-height:normal;font-family:Menlo,'DejaVu Sans Mono',consolas,'Courier New',monospace\"><span style=\"font-weight: bold\"> Non-trainable params: </span><span style=\"color: #00af00; text-decoration-color: #00af00\">0</span> (0.00 B)\n",
              "</pre>\n"
            ]
          },
          "metadata": {}
        }
      ]
    },
    {
      "cell_type": "markdown",
      "source": [
        "Compilamos el modelo"
      ],
      "metadata": {
        "id": "BxcQmAByCKK6"
      }
    },
    {
      "cell_type": "code",
      "source": [
        "model.compile(optimizer='adam', loss='sparse_categorical_crossentropy', metrics=['accuracy'])"
      ],
      "metadata": {
        "id": "Z9qSFxo0EH46"
      },
      "execution_count": null,
      "outputs": []
    },
    {
      "cell_type": "markdown",
      "source": [
        "Entrenamos el modelo"
      ],
      "metadata": {
        "id": "TuZFrSiUCPb6"
      }
    },
    {
      "cell_type": "code",
      "source": [
        "# Padding de las secuencias\n",
        "encoder_input_sequences = pad_sequences(encoder_input_sequences, maxlen=max_input_len, padding='post')\n",
        "decoder_input_sequences = pad_sequences(decoder_input_sequences, maxlen=max_out_len, padding='post')\n",
        "decoder_output_sequences = pad_sequences(decoder_output_sequences, maxlen=max_out_len, padding='post')\n",
        "\n",
        "# Entrenar el modelo\n",
        "history = model.fit([encoder_input_sequences, decoder_input_sequences],\n",
        "                    decoder_output_sequences,\n",
        "                    batch_size=64,\n",
        "                    epochs=50,  # Ajustamos según el tiempo de entrenamiento\n",
        "                    validation_split=0.2)"
      ],
      "metadata": {
        "colab": {
          "base_uri": "https://localhost:8080/"
        },
        "id": "xMf0qDJQESlN",
        "outputId": "3bb9aa4e-6160-4a64-bd6c-3703cc8fa50f"
      },
      "execution_count": null,
      "outputs": [
        {
          "output_type": "stream",
          "name": "stdout",
          "text": [
            "Epoch 1/50\n",
            "\u001b[1m76/76\u001b[0m \u001b[32m━━━━━━━━━━━━━━━━━━━━\u001b[0m\u001b[37m\u001b[0m \u001b[1m37s\u001b[0m 415ms/step - accuracy: 0.4728 - loss: 4.5529 - val_accuracy: 0.6271 - val_loss: 2.2807\n",
            "Epoch 2/50\n",
            "\u001b[1m76/76\u001b[0m \u001b[32m━━━━━━━━━━━━━━━━━━━━\u001b[0m\u001b[37m\u001b[0m \u001b[1m43s\u001b[0m 435ms/step - accuracy: 0.6129 - loss: 2.1326 - val_accuracy: 0.6392 - val_loss: 2.1596\n",
            "Epoch 3/50\n",
            "\u001b[1m76/76\u001b[0m \u001b[32m━━━━━━━━━━━━━━━━━━━━\u001b[0m\u001b[37m\u001b[0m \u001b[1m41s\u001b[0m 440ms/step - accuracy: 0.6354 - loss: 1.9896 - val_accuracy: 0.6666 - val_loss: 2.0479\n",
            "Epoch 4/50\n",
            "\u001b[1m76/76\u001b[0m \u001b[32m━━━━━━━━━━━━━━━━━━━━\u001b[0m\u001b[37m\u001b[0m \u001b[1m38s\u001b[0m 405ms/step - accuracy: 0.6794 - loss: 1.8116 - val_accuracy: 0.6840 - val_loss: 1.9484\n",
            "Epoch 5/50\n",
            "\u001b[1m76/76\u001b[0m \u001b[32m━━━━━━━━━━━━━━━━━━━━\u001b[0m\u001b[37m\u001b[0m \u001b[1m45s\u001b[0m 452ms/step - accuracy: 0.7028 - loss: 1.6997 - val_accuracy: 0.6911 - val_loss: 1.8888\n",
            "Epoch 6/50\n",
            "\u001b[1m76/76\u001b[0m \u001b[32m━━━━━━━━━━━━━━━━━━━━\u001b[0m\u001b[37m\u001b[0m \u001b[1m38s\u001b[0m 413ms/step - accuracy: 0.7088 - loss: 1.6106 - val_accuracy: 0.6981 - val_loss: 1.8477\n",
            "Epoch 7/50\n",
            "\u001b[1m76/76\u001b[0m \u001b[32m━━━━━━━━━━━━━━━━━━━━\u001b[0m\u001b[37m\u001b[0m \u001b[1m41s\u001b[0m 410ms/step - accuracy: 0.7177 - loss: 1.5183 - val_accuracy: 0.7037 - val_loss: 1.8057\n",
            "Epoch 8/50\n",
            "\u001b[1m76/76\u001b[0m \u001b[32m━━━━━━━━━━━━━━━━━━━━\u001b[0m\u001b[37m\u001b[0m \u001b[1m45s\u001b[0m 454ms/step - accuracy: 0.7291 - loss: 1.4634 - val_accuracy: 0.7077 - val_loss: 1.7739\n",
            "Epoch 9/50\n",
            "\u001b[1m76/76\u001b[0m \u001b[32m━━━━━━━━━━━━━━━━━━━━\u001b[0m\u001b[37m\u001b[0m \u001b[1m37s\u001b[0m 409ms/step - accuracy: 0.7349 - loss: 1.4194 - val_accuracy: 0.7137 - val_loss: 1.7585\n",
            "Epoch 10/50\n",
            "\u001b[1m76/76\u001b[0m \u001b[32m━━━━━━━━━━━━━━━━━━━━\u001b[0m\u001b[37m\u001b[0m \u001b[1m40s\u001b[0m 403ms/step - accuracy: 0.7409 - loss: 1.3687 - val_accuracy: 0.7143 - val_loss: 1.7313\n",
            "Epoch 11/50\n",
            "\u001b[1m76/76\u001b[0m \u001b[32m━━━━━━━━━━━━━━━━━━━━\u001b[0m\u001b[37m\u001b[0m \u001b[1m45s\u001b[0m 457ms/step - accuracy: 0.7390 - loss: 1.3572 - val_accuracy: 0.7136 - val_loss: 1.7239\n",
            "Epoch 12/50\n",
            "\u001b[1m76/76\u001b[0m \u001b[32m━━━━━━━━━━━━━━━━━━━━\u001b[0m\u001b[37m\u001b[0m \u001b[1m45s\u001b[0m 520ms/step - accuracy: 0.7448 - loss: 1.3123 - val_accuracy: 0.7164 - val_loss: 1.7091\n",
            "Epoch 13/50\n",
            "\u001b[1m76/76\u001b[0m \u001b[32m━━━━━━━━━━━━━━━━━━━━\u001b[0m\u001b[37m\u001b[0m \u001b[1m39s\u001b[0m 484ms/step - accuracy: 0.7467 - loss: 1.2952 - val_accuracy: 0.7185 - val_loss: 1.7013\n",
            "Epoch 14/50\n",
            "\u001b[1m76/76\u001b[0m \u001b[32m━━━━━━━━━━━━━━━━━━━━\u001b[0m\u001b[37m\u001b[0m \u001b[1m35s\u001b[0m 409ms/step - accuracy: 0.7522 - loss: 1.2564 - val_accuracy: 0.7198 - val_loss: 1.6897\n",
            "Epoch 15/50\n",
            "\u001b[1m76/76\u001b[0m \u001b[32m━━━━━━━━━━━━━━━━━━━━\u001b[0m\u001b[37m\u001b[0m \u001b[1m45s\u001b[0m 464ms/step - accuracy: 0.7571 - loss: 1.2111 - val_accuracy: 0.7195 - val_loss: 1.6872\n",
            "Epoch 16/50\n",
            "\u001b[1m76/76\u001b[0m \u001b[32m━━━━━━━━━━━━━━━━━━━━\u001b[0m\u001b[37m\u001b[0m \u001b[1m45s\u001b[0m 519ms/step - accuracy: 0.7594 - loss: 1.1967 - val_accuracy: 0.7232 - val_loss: 1.6840\n",
            "Epoch 17/50\n",
            "\u001b[1m76/76\u001b[0m \u001b[32m━━━━━━━━━━━━━━━━━━━━\u001b[0m\u001b[37m\u001b[0m \u001b[1m31s\u001b[0m 400ms/step - accuracy: 0.7621 - loss: 1.1756 - val_accuracy: 0.7237 - val_loss: 1.6772\n",
            "Epoch 18/50\n",
            "\u001b[1m76/76\u001b[0m \u001b[32m━━━━━━━━━━━━━━━━━━━━\u001b[0m\u001b[37m\u001b[0m \u001b[1m42s\u001b[0m 415ms/step - accuracy: 0.7671 - loss: 1.1416 - val_accuracy: 0.7249 - val_loss: 1.6815\n",
            "Epoch 19/50\n",
            "\u001b[1m76/76\u001b[0m \u001b[32m━━━━━━━━━━━━━━━━━━━━\u001b[0m\u001b[37m\u001b[0m \u001b[1m44s\u001b[0m 462ms/step - accuracy: 0.7641 - loss: 1.1328 - val_accuracy: 0.7248 - val_loss: 1.6786\n",
            "Epoch 20/50\n",
            "\u001b[1m76/76\u001b[0m \u001b[32m━━━━━━━━━━━━━━━━━━━━\u001b[0m\u001b[37m\u001b[0m \u001b[1m37s\u001b[0m 408ms/step - accuracy: 0.7682 - loss: 1.1061 - val_accuracy: 0.7259 - val_loss: 1.6704\n",
            "Epoch 21/50\n",
            "\u001b[1m76/76\u001b[0m \u001b[32m━━━━━━━━━━━━━━━━━━━━\u001b[0m\u001b[37m\u001b[0m \u001b[1m43s\u001b[0m 427ms/step - accuracy: 0.7723 - loss: 1.0874 - val_accuracy: 0.7278 - val_loss: 1.6740\n",
            "Epoch 22/50\n",
            "\u001b[1m76/76\u001b[0m \u001b[32m━━━━━━━━━━━━━━━━━━━━\u001b[0m\u001b[37m\u001b[0m \u001b[1m43s\u001b[0m 456ms/step - accuracy: 0.7671 - loss: 1.0925 - val_accuracy: 0.7297 - val_loss: 1.6772\n",
            "Epoch 23/50\n",
            "\u001b[1m76/76\u001b[0m \u001b[32m━━━━━━━━━━━━━━━━━━━━\u001b[0m\u001b[37m\u001b[0m \u001b[1m33s\u001b[0m 436ms/step - accuracy: 0.7735 - loss: 1.0537 - val_accuracy: 0.7288 - val_loss: 1.6811\n",
            "Epoch 24/50\n",
            "\u001b[1m76/76\u001b[0m \u001b[32m━━━━━━━━━━━━━━━━━━━━\u001b[0m\u001b[37m\u001b[0m \u001b[1m41s\u001b[0m 443ms/step - accuracy: 0.7718 - loss: 1.0551 - val_accuracy: 0.7314 - val_loss: 1.6784\n",
            "Epoch 25/50\n",
            "\u001b[1m76/76\u001b[0m \u001b[32m━━━━━━━━━━━━━━━━━━━━\u001b[0m\u001b[37m\u001b[0m \u001b[1m38s\u001b[0m 403ms/step - accuracy: 0.7800 - loss: 1.0114 - val_accuracy: 0.7322 - val_loss: 1.6791\n",
            "Epoch 26/50\n",
            "\u001b[1m76/76\u001b[0m \u001b[32m━━━━━━━━━━━━━━━━━━━━\u001b[0m\u001b[37m\u001b[0m \u001b[1m45s\u001b[0m 453ms/step - accuracy: 0.7785 - loss: 1.0073 - val_accuracy: 0.7318 - val_loss: 1.6866\n",
            "Epoch 27/50\n",
            "\u001b[1m76/76\u001b[0m \u001b[32m━━━━━━━━━━━━━━━━━━━━\u001b[0m\u001b[37m\u001b[0m \u001b[1m37s\u001b[0m 403ms/step - accuracy: 0.7831 - loss: 0.9815 - val_accuracy: 0.7340 - val_loss: 1.6864\n",
            "Epoch 28/50\n",
            "\u001b[1m76/76\u001b[0m \u001b[32m━━━━━━━━━━━━━━━━━━━━\u001b[0m\u001b[37m\u001b[0m \u001b[1m34s\u001b[0m 445ms/step - accuracy: 0.7871 - loss: 0.9671 - val_accuracy: 0.7348 - val_loss: 1.6859\n",
            "Epoch 29/50\n",
            "\u001b[1m76/76\u001b[0m \u001b[32m━━━━━━━━━━━━━━━━━━━━\u001b[0m\u001b[37m\u001b[0m \u001b[1m38s\u001b[0m 402ms/step - accuracy: 0.7867 - loss: 0.9617 - val_accuracy: 0.7353 - val_loss: 1.6912\n",
            "Epoch 30/50\n",
            "\u001b[1m76/76\u001b[0m \u001b[32m━━━━━━━━━━━━━━━━━━━━\u001b[0m\u001b[37m\u001b[0m \u001b[1m45s\u001b[0m 453ms/step - accuracy: 0.7849 - loss: 0.9621 - val_accuracy: 0.7356 - val_loss: 1.6961\n",
            "Epoch 31/50\n",
            "\u001b[1m76/76\u001b[0m \u001b[32m━━━━━━━━━━━━━━━━━━━━\u001b[0m\u001b[37m\u001b[0m \u001b[1m38s\u001b[0m 412ms/step - accuracy: 0.7931 - loss: 0.9306 - val_accuracy: 0.7355 - val_loss: 1.6993\n",
            "Epoch 32/50\n",
            "\u001b[1m76/76\u001b[0m \u001b[32m━━━━━━━━━━━━━━━━━━━━\u001b[0m\u001b[37m\u001b[0m \u001b[1m41s\u001b[0m 402ms/step - accuracy: 0.7966 - loss: 0.9055 - val_accuracy: 0.7330 - val_loss: 1.7016\n",
            "Epoch 33/50\n",
            "\u001b[1m76/76\u001b[0m \u001b[32m━━━━━━━━━━━━━━━━━━━━\u001b[0m\u001b[37m\u001b[0m \u001b[1m45s\u001b[0m 451ms/step - accuracy: 0.7977 - loss: 0.9001 - val_accuracy: 0.7348 - val_loss: 1.7078\n",
            "Epoch 34/50\n",
            "\u001b[1m76/76\u001b[0m \u001b[32m━━━━━━━━━━━━━━━━━━━━\u001b[0m\u001b[37m\u001b[0m \u001b[1m37s\u001b[0m 401ms/step - accuracy: 0.8015 - loss: 0.8840 - val_accuracy: 0.7335 - val_loss: 1.7134\n",
            "Epoch 35/50\n",
            "\u001b[1m76/76\u001b[0m \u001b[32m━━━━━━━━━━━━━━━━━━━━\u001b[0m\u001b[37m\u001b[0m \u001b[1m42s\u001b[0m 406ms/step - accuracy: 0.7994 - loss: 0.8799 - val_accuracy: 0.7349 - val_loss: 1.7168\n",
            "Epoch 36/50\n",
            "\u001b[1m76/76\u001b[0m \u001b[32m━━━━━━━━━━━━━━━━━━━━\u001b[0m\u001b[37m\u001b[0m \u001b[1m47s\u001b[0m 484ms/step - accuracy: 0.8040 - loss: 0.8636 - val_accuracy: 0.7324 - val_loss: 1.7329\n",
            "Epoch 37/50\n",
            "\u001b[1m76/76\u001b[0m \u001b[32m━━━━━━━━━━━━━━━━━━━━\u001b[0m\u001b[37m\u001b[0m \u001b[1m31s\u001b[0m 411ms/step - accuracy: 0.8066 - loss: 0.8500 - val_accuracy: 0.7344 - val_loss: 1.7286\n",
            "Epoch 38/50\n",
            "\u001b[1m76/76\u001b[0m \u001b[32m━━━━━━━━━━━━━━━━━━━━\u001b[0m\u001b[37m\u001b[0m \u001b[1m45s\u001b[0m 457ms/step - accuracy: 0.8105 - loss: 0.8295 - val_accuracy: 0.7359 - val_loss: 1.7275\n",
            "Epoch 39/50\n",
            "\u001b[1m76/76\u001b[0m \u001b[32m━━━━━━━━━━━━━━━━━━━━\u001b[0m\u001b[37m\u001b[0m \u001b[1m37s\u001b[0m 407ms/step - accuracy: 0.8064 - loss: 0.8342 - val_accuracy: 0.7345 - val_loss: 1.7322\n",
            "Epoch 40/50\n",
            "\u001b[1m76/76\u001b[0m \u001b[32m━━━━━━━━━━━━━━━━━━━━\u001b[0m\u001b[37m\u001b[0m \u001b[1m41s\u001b[0m 410ms/step - accuracy: 0.8092 - loss: 0.8191 - val_accuracy: 0.7322 - val_loss: 1.7488\n",
            "Epoch 41/50\n",
            "\u001b[1m76/76\u001b[0m \u001b[32m━━━━━━━━━━━━━━━━━━━━\u001b[0m\u001b[37m\u001b[0m \u001b[1m45s\u001b[0m 460ms/step - accuracy: 0.8153 - loss: 0.7988 - val_accuracy: 0.7335 - val_loss: 1.7488\n",
            "Epoch 42/50\n",
            "\u001b[1m76/76\u001b[0m \u001b[32m━━━━━━━━━━━━━━━━━━━━\u001b[0m\u001b[37m\u001b[0m \u001b[1m37s\u001b[0m 407ms/step - accuracy: 0.8170 - loss: 0.7899 - val_accuracy: 0.7329 - val_loss: 1.7510\n",
            "Epoch 43/50\n",
            "\u001b[1m76/76\u001b[0m \u001b[32m━━━━━━━━━━━━━━━━━━━━\u001b[0m\u001b[37m\u001b[0m \u001b[1m42s\u001b[0m 421ms/step - accuracy: 0.8183 - loss: 0.7808 - val_accuracy: 0.7345 - val_loss: 1.7527\n",
            "Epoch 44/50\n",
            "\u001b[1m76/76\u001b[0m \u001b[32m━━━━━━━━━━━━━━━━━━━━\u001b[0m\u001b[37m\u001b[0m \u001b[1m38s\u001b[0m 503ms/step - accuracy: 0.8200 - loss: 0.7709 - val_accuracy: 0.7354 - val_loss: 1.7619\n",
            "Epoch 45/50\n",
            "\u001b[1m76/76\u001b[0m \u001b[32m━━━━━━━━━━━━━━━━━━━━\u001b[0m\u001b[37m\u001b[0m \u001b[1m38s\u001b[0m 460ms/step - accuracy: 0.8203 - loss: 0.7571 - val_accuracy: 0.7363 - val_loss: 1.7655\n",
            "Epoch 46/50\n",
            "\u001b[1m76/76\u001b[0m \u001b[32m━━━━━━━━━━━━━━━━━━━━\u001b[0m\u001b[37m\u001b[0m \u001b[1m31s\u001b[0m 410ms/step - accuracy: 0.8228 - loss: 0.7491 - val_accuracy: 0.7331 - val_loss: 1.7749\n",
            "Epoch 47/50\n",
            "\u001b[1m76/76\u001b[0m \u001b[32m━━━━━━━━━━━━━━━━━━━━\u001b[0m\u001b[37m\u001b[0m \u001b[1m44s\u001b[0m 453ms/step - accuracy: 0.8248 - loss: 0.7395 - val_accuracy: 0.7342 - val_loss: 1.7838\n",
            "Epoch 48/50\n",
            "\u001b[1m76/76\u001b[0m \u001b[32m━━━━━━━━━━━━━━━━━━━━\u001b[0m\u001b[37m\u001b[0m \u001b[1m37s\u001b[0m 409ms/step - accuracy: 0.8283 - loss: 0.7268 - val_accuracy: 0.7342 - val_loss: 1.7852\n",
            "Epoch 49/50\n",
            "\u001b[1m76/76\u001b[0m \u001b[32m━━━━━━━━━━━━━━━━━━━━\u001b[0m\u001b[37m\u001b[0m \u001b[1m33s\u001b[0m 436ms/step - accuracy: 0.8281 - loss: 0.7182 - val_accuracy: 0.7335 - val_loss: 1.7928\n",
            "Epoch 50/50\n",
            "\u001b[1m76/76\u001b[0m \u001b[32m━━━━━━━━━━━━━━━━━━━━\u001b[0m\u001b[37m\u001b[0m \u001b[1m35s\u001b[0m 453ms/step - accuracy: 0.8311 - loss: 0.7082 - val_accuracy: 0.7324 - val_loss: 1.7996\n"
          ]
        }
      ]
    },
    {
      "cell_type": "markdown",
      "source": [
        "Evaluamos el rendimiento"
      ],
      "metadata": {
        "id": "LUUkKtoTG3Fh"
      }
    },
    {
      "cell_type": "code",
      "source": [
        "# Graficamos la pérdida\n",
        "plt.plot(history.history['loss'], label='loss')\n",
        "plt.plot(history.history['val_loss'], label='val_loss')\n",
        "plt.title('Evolución de la pérdida durante el entrenamiento')\n",
        "plt.xlabel('Épocas')\n",
        "plt.ylabel('Pérdida')\n",
        "plt.legend()\n",
        "plt.show()\n",
        "\n",
        "# Graficamos la precisión\n",
        "plt.plot(history.history['accuracy'], label='accuracy')\n",
        "plt.plot(history.history['val_accuracy'], label='val_accuracy')\n",
        "plt.title('Evolución de la precisión durante el entrenamiento')\n",
        "plt.xlabel('Épocas')\n",
        "plt.ylabel('Precisión')\n",
        "plt.legend()\n",
        "plt.show()"
      ],
      "metadata": {
        "colab": {
          "base_uri": "https://localhost:8080/",
          "height": 931
        },
        "id": "4H9MDf0BEned",
        "outputId": "1ba17b2d-82b0-4088-a432-e48fe4b2701a"
      },
      "execution_count": null,
      "outputs": [
        {
          "output_type": "display_data",
          "data": {
            "text/plain": [
              "<Figure size 640x480 with 1 Axes>"
            ],
            "image/png": "[encoded data removed]"
          },
          "metadata": {}
        },
        {
          "output_type": "display_data",
          "data": {
            "text/plain": [
              "<Figure size 640x480 with 1 Axes>"
            ],
            "image/png": "[encoded data removed]"
          },
          "metadata": {}
        }
      ]
    },
    {
      "cell_type": "markdown",
      "source": [
        "### 5 - Inferencia\n",
        "Experimentar el funcionamiento de su modelo. Recuerde que debe realizar la inferencia de los modelos por separado de encoder y decoder."
      ],
      "metadata": {
        "id": "fieWfKmV6zu0"
      }
    },
    {
      "cell_type": "markdown",
      "source": [
        "Encoder para la inferencia"
      ],
      "metadata": {
        "id": "2XRBPhR7geNg"
      }
    },
    {
      "cell_type": "code",
      "source": [
        "# Modelo de inferencia del encoder\n",
        "encoder_model_inference = Model(encoder_inputs, encoder_states)"
      ],
      "metadata": {
        "id": "ZxZJHCVaghGC"
      },
      "execution_count": null,
      "outputs": []
    },
    {
      "cell_type": "markdown",
      "source": [
        "Decoder para la inferencia"
      ],
      "metadata": {
        "id": "uK_UWQiFgnPP"
      }
    },
    {
      "cell_type": "code",
      "source": [
        "# Estados del decoder como entradas\n",
        "decoder_state_input_h = Input(shape=(256,), name='input_h')\n",
        "decoder_state_input_c = Input(shape=(256,), name='input_c')\n",
        "decoder_states_inputs = [decoder_state_input_h, decoder_state_input_c]\n",
        "\n",
        "# Embedding del decoder\n",
        "decoder_inputs_inference = Input(shape=(None,), name='decoder_input_inference')\n",
        "decoder_embedding_inference = Embedding(input_dim=8000, output_dim=50)(decoder_inputs_inference)\n",
        "\n",
        "# LSTM del decoder\n",
        "decoder_outputs_inference, state_h_inference, state_c_inference = decoder_lstm(\n",
        "    decoder_embedding_inference, initial_state=decoder_states_inputs)\n",
        "\n",
        "# Densa del decoder\n",
        "decoder_outputs_inference = decoder_dense(decoder_outputs_inference)\n",
        "\n",
        "# Modelo de inferencia del decoder\n",
        "decoder_model_inference = Model(\n",
        "    [decoder_inputs_inference] + decoder_states_inputs,\n",
        "    [decoder_outputs_inference, state_h_inference, state_c_inference])\n"
      ],
      "metadata": {
        "id": "89bqLBDugpwu"
      },
      "execution_count": null,
      "outputs": []
    },
    {
      "cell_type": "code",
      "source": [
        "# Modelo de inferencia del encoder\n",
        "encoder_model_inference = Model(encoder_inputs, encoder_states)"
      ],
      "metadata": {
        "id": "GlYOscw7hYtk"
      },
      "execution_count": null,
      "outputs": []
    },
    {
      "cell_type": "markdown",
      "source": [
        "Función para predecir la secuencia"
      ],
      "metadata": {
        "id": "gdKjeVU7hc5z"
      }
    },
    {
      "cell_type": "code",
      "source": [
        "idx2word_outputs = {v: k for k, v in word2idx_outputs.items()}"
      ],
      "metadata": {
        "id": "cJG8T4dEJt9z"
      },
      "execution_count": null,
      "outputs": []
    },
    {
      "cell_type": "code",
      "source": [
        "print(word2idx_outputs)"
      ],
      "metadata": {
        "colab": {
          "base_uri": "https://localhost:8080/"
        },
        "id": "HnxT_lxsGhMc",
        "outputId": "966dd984-4fb7-489a-cf9e-561312afac95"
      },
      "execution_count": null,
      "outputs": [
        {
          "output_type": "stream",
          "name": "stdout",
          "text": [
            "{'eos': 1, 'sos': 2, 'you': 3, 'i': 4, 'do': 5, 'what': 6, 'a': 7, 'are': 8, 'to': 9, 'for': 10, 'how': 11, 'am': 12, 'living': 13, 'like': 14, 'love': 15, 'have': 16, 'is': 17, 'm': 18, 'your': 19, 'read': 20, 'hello': 21, 'oh': 22, 'good': 23, 'that': 24, 'hi': 25, 'it': 26, 'the': 27, 'any': 28, 'not': 29, 'yes': 30, 'u': 31, 'and': 32, 'work': 33, 'about': 34, 'me': 35, 's': 36, 'in': 37, 'no': 38, 'my': 39, 'ok': 40, 'fine': 41, 'from': 42, 'today': 43, 'of': 44, 'hobbies': 45, 'doing': 46, 't': 47, 'where': 48, 'name': 49, 'play': 50, 'too': 51, 'go': 52, 'so': 53, 'well': 54, 'see': 55, 'great': 56, 'don': 57, 'favorite': 58, 'bye': 59, 'pets': 60, 'nice': 61, 'know': 62, 'there': 63, 'at': 64, 'hey': 65, 'why': 66, 'can': 67, 'sure': 68, 'live': 69, 'cool': 70, 'fun': 71, 'thanks': 72, 'old': 73, 'games': 74, 'beach': 75, 'job': 76, 'tell': 77, 'with': 78, 'student': 79, 'mean': 80, 'sorry': 81, 'girl': 82, 'up': 83, 'video': 84, 'vegan': 85, 'day': 86, 'city': 87, 'nothing': 88, 'cook': 89, 'studying': 90, 'lot': 91, 'be': 92, 'food': 93, 'wow': 94, 'really': 95, 'okay': 96, 'also': 97, 'r': 98, 'dog': 99, 'kind': 100, 'color': 101, 'want': 102, 'yeah': 103, 'as': 104, 'just': 105, 'music': 106, 've': 107, 'hate': 108, 'now': 109, 'or': 110, 'one': 111, 'india': 112, 'books': 113, 'doctor': 114, 'say': 115, 'movies': 116, 'study': 117, 'which': 118, 'fuck': 119, 'kids': 120, 'but': 121, 'thank': 122, 'dogs': 123, 'friends': 124, 'very': 125, 'teacher': 126, 'ur': 127, 'who': 128, 'was': 129, 'hear': 130, 'will': 131, 'eat': 132, 'hope': 133, 'because': 134, 'ya': 135, 'they': 136, 'he': 137, 'all': 138, 'n': 139, 'cali': 140, 'whats': 141, 'school': 142, 'store': 143, 'talk': 144, 'grocery': 145, 'lol': 146, 'same': 147, 'sounds': 148, 'k': 149, 'hii': 150, 'going': 151, 'watch': 152, 'thing': 153, 'this': 154, 'female': 155, 'night': 156, 'help': 157, 'coffee': 158, 'cat': 159, 'end': 160, 'think': 161, 'many': 162, 'get': 163, 'send': 164, 'im': 165, 'them': 166, 'man': 167, 'ask': 168, 'sex': 169, 'new': 170, 'did': 171, 'boy': 172, 'kill': 173, 'never': 174, 'an': 175, 'time': 176, 'got': 177, 'teach': 178, 'enjoy': 179, 'yourself': 180, 'meet': 181, 'then': 182, 'two': 183, 'swim': 184, 'we': 185, 'married': 186, 'speak': 187, 'right': 188, 'much': 189, 'yours': 190, 'age': 191, 'bad': 192, 'united': 193, 'states': 194, 'something': 195, 'awesome': 196, 'understand': 197, 'pizza': 198, 'asking': 199, 'book': 200, 'cats': 201, 'sing': 202, 'single': 203, 'number': 204, 'ha': 205, 'hindi': 206, 'else': 207, 'sleep': 208, 'need': 209, 'please': 210, 'she': 211, 'on': 212, 'call': 213, 'blue': 214, 'movie': 215, 'game': 216, 'bot': 217, 'big': 218, 'talking': 219, '32': 220, 'retired': 221, 'll': 222, 'army': 223, 'make': 224, 'home': 225, 'math': 226, 'ohh': 227, 'mine': 228, 'bro': 229, 'been': 230, 'happened': 231, 'answer': 232, 'year': 233, 'would': 234, 'dance': 235, 'already': 236, 'funny': 237, 'gym': 238, 'always': 239, 'band': 240, 'pet': 241, 'major': 242, 'business': 243, 'fan': 244, 'favourite': 245, 'best': 246, 'dont': 247, 'off': 248, 'sir': 249, 'means': 250, 'eating': 251, 'later': 252, 'years': 253, 'cricket': 254, 'reading': 255, 'some': 256, 'said': 257, 'only': 258, 'horses': 259, 'chat': 260, 'family': 261, 'hobby': 262, 'english': 263, 'things': 264, 'girls': 265, '2': 266, 'here': 267, 'soon': 268, 'more': 269, 'when': 270, 'were': 271, 'grow': 272, 'science': 273, 'gay': 274, 'fucking': 275, 'drive': 276, 'parents': 277, 'grade': 278, 'three': 279, 'does': 280, 'us': 281, 'working': 282, 'start': 283, '18': 284, 'her': 285, 'musician': 286, 'nurse': 287, 'hair': 288, 'had': 289, 'male': 290, 'chatting': 291, 'red': 292, 'delhi': 293, 'chip': 294, 'car': 295, 'twitch': 296, 'guess': 297, 'york': 298, 'told': 299, 'song': 300, 'black': 301, 'mom': 302, 'subject': 303, 'haha': 304, 'children': 305, 'next': 306, 'person': 307, 'singer': 308, 'hlw': 309, 'woman': 310, 'gud': 311, 'fast': 312, 'travel': 313, 'mother': 314, 'its': 315, 'give': 316, 'life': 317, 'bees': 318, 'anything': 319, 'indian': 320, 'sports': 321, 'beautiful': 322, 'football': 323, 'named': 324, '3': 325, 'riverside': 326, 'yo': 327, 'him': 328, '30': 329, 'pobox': 330, 'eyes': 331, 'cars': 332, 'boyfriend': 333, 'clowns': 334, 'mexican': 335, 'lover': 336, 're': 337, 'drink': 338, 'thats': 339, 'run': 340, 'hmm': 341, 'finish': 342, 'interesting': 343, 'watching': 344, 'soccer': 345, '25': 346, 'playing': 347, 'joke': 348, 'college': 349, 'question': 350, 'story': 351, 'robot': 352, 'women': 353, 'hiii': 354, 'iam': 355, 'tacos': 356, 'haa': 357, 'hai': 358, 'chess': 359, 'own': 360, 'class': 361, '20': 362, 'reply': 363, 'bank': 364, 'country': 365, 'listen': 366, 'looking': 367, 'still': 368, 'plz': 369, 'morning': 370, 'john': 371, 'dear': 372, 'either': 373, 'yaa': 374, 'california': 375, 'magic': 376, 'genre': 377, 'horror': 378, 'bake': 379, 'fly': 380, 'let': 381, 'animal': 382, 'could': 383, 'didn': 384, 'every': 385, 'shopping': 386, 'kinds': 387, 'place': 388, 'shop': 389, 'gender': 390, 'watches': 391, 'tennis': 392, 'cooking': 393, 'lost': 394, 'back': 395, 'better': 396, 'friend': 397, 'being': 398, 'aren': 399, 'languages': 400, 'happy': 401, 'chef': 402, 'grey': 403, 'use': 404, 'try': 405, 'beatles': 406, 'stop': 407, 'singing': 408, 'learn': 409, 'hlo': 410, 'photo': 411, 'those': 412, 'asshole': 413, 'appreciate': 414, 'farmer': 415, 'engineer': 416, 'gf': 417, 'pubg': 418, 'okk': 419, 'both': 420, '21': 421, 'hospital': 422, 'bout': 423, 'goes': 424, '12': 425, 'long': 426, 'german': 427, 'yup': 428, 'ride': 429, 'yea': 430, 'nope': 431, 'tv': 432, 'ooo': 433, 'father': 434, '19': 435, 'idea': 436, 'id': 437, 'maybe': 438, 'wearing': 439, 'hat': 440, 'amazing': 441, 'topic': 442, 'taco': 443, 'c': 444, 'problem': 445, 'purple': 446, 'o': 447, '17': 448, 'anyone': 449, 'ever': 450, 'come': 451, 'sad': 452, 'seen': 453, 'actually': 454, 'bf': 455, 'fish': 456, 'meat': 457, 'conversation': 458, 'librarian': 459, 'must': 460, 'brown': 461, 'player': 462, 'sometimes': 463, 'metal': 464, 'alright': 465, 'colorado': 466, 'part': 467, 'leave': 468, 'everything': 469, 'by': 470, 'respect': 471, 'winter': 472, 'rap': 473, 'harry': 474, 'potter': 475, 'star': 476, 'wars': 477, 'facebook': 478, 'money': 479, 'correct': 480, 'navy': 481, 'shipyard': 482, 'orange': 483, 'take': 484, 'hard': 485, 'riding': 486, 'green': 487, 'fn': 488, 'first': 489, 'teek': 490, 'kaam': 491, 'begin': 492, 'free': 493, 'suck': 494, 'dick': 495, 'die': 496, 'disney': 497, 'pleasure': 498, 'language': 499, 'traveling': 500, 'mike': 501, 'breathing': 502, 'degree': 503, 'engineering': 504, 'though': 505, 'his': 506, 'pink': 507, 'pic': 508, 'wish': 509, 'human': 510, 'vacation': 511, 'hyy': 512, 'walking': 513, 'comedian': 514, 'bike': 515, 'house': 516, 'shows': 517, 'partner': 518, 'bt': 519, 'happen': 520, 'restaurant': 521, 'chinese': 522, 'helo': 523, 'labrador': 524, 'busy': 525, 'wait': 526, 'find': 527, 'marketing': 528, 'pardon': 529, 'jobs': 530, 'wbu': 531, 'fyn': 532, 'god': 533, 'mad': 534, 'count': 535, 'cute': 536, '8': 537, 'welcome': 538, 'ohhh': 539, 'hurt': 540, 'famous': 541, 'fb': 542, 'streamer': 543, 'gas': 544, 'station': 545, 'pub': 546, 'wife': 547, 'eaten': 548, 'russia': 549, 'mon': 550, 'nowhere': 551, 'anytime': 552, 'team': 553, 'almost': 554, 'build': 555, 'houses': 556, '4': 557, 'together': 558, 'sky': 559, 'plans': 560, 'insurance': 561, 'shelter': 562, 'sara': 563, 'little': 564, 'sick': 565, 'duty': 566, '10': 567, 'surgeon': 568, '14': 569, 'names': 570, 'pork': 571, 'nah': 572, 'kidding': 573, 'goodbye': 574, 'farm': 575, 'used': 576, 'computer': 577, 'pa': 578, 'soda': 579, 'played': 580, '24': 581, 'ohio': 582, 'north': 583, 'carolina': 584, 'knit': 585, 'yellow': 586, 'stupid': 587, 'students': 588, 'prius': 589, 'boring': 590, 'peanuts': 591, 'peanut': 592, 'allergy': 593, 'swimming': 594, 'exit': 595, 'britney': 596, 'spears': 597, 'helloz': 598, 'listening': 599, 'bbye': 600, 'pregnant': 601, 'yiu': 602, 'matter': 603, 'fix': 604, 'if': 605, 'spanish': 606, 'before': 607, 'saying': 608, 'bored': 609, 'other': 610, 'piano': 611, 'hiking': 612, 'five': 613, 'sons': 614, 'should': 615, 'over': 616, 'golden': 617, 'thx': 618, 'deliver': 619, 'out': 620, 'air': 621, 'small': 622, 'boston': 623, 'alone': 624, 'weird': 625, 'normal': 626, 'went': 627, 'sexy': 628, 'honey': 629, 'meditate': 630, 'religion': 631, 'justin': 632, 'feminist': 633, 'jokes': 634, 'honda': 635, 'than': 636, 'friday': 637, 'lawyer': 638, 'sport': 639, 'toys': 640, 'larry': 641, 'sup': 642, 'vet': 643, 'drugs': 644, 'manager': 645, 'asked': 646, 'dumb': 647, 'sand': 648, 'breath': 649, 'change': 650, 'struggle': 651, 'works': 652, 'phone': 653, '1': 654, 'olakka': 655, 'health': 656, '33': 657, 'smoking': 658, 'hu': 659, 'karogi': 660, 'hobbie': 661, 'kk': 662, 'spain': 663, 'into': 664, 'girlfriend': 665, 'brat': 666, 'charlie': 667, 'leaving': 668, 'nissan': 669, 'guitar': 670, 'alaska': 671, 'ho': 672, 'nhi': 673, 'education': 674, 'such': 675, 'christ': 676, 'shit': 677, 'believe': 678, 'btw': 679, 'enjoying': 680, 'byee': 681, 'gn': 682, 'suffering': 683, 'cold': 684, 'bee': 685, 'command': 686, 'huski': 687, 'type': 688, 'yah': 689, 'woww': 690, 'sleeping': 691, 'surat': 692, 'hoo': 693, 'civil': 694, 'jus': 695, 'even': 696, 'young': 697, 'ooh': 698, 'ba': 699, 'pride': 700, 'management': 701, 'mostly': 702, 'taylor': 703, 'ohhk': 704, 'alive': 705, 'hv': 706, 'evening': 707, 'byyy': 708, 'na': 709, 'plzz': 710, 'taking': 711, 'electric': 712, 'basketball': 713, 'vegetables': 714, 'whts': 715, 'mountains': 716, 'son': 717, 'ranchi': 718, 'radar': 719, 'healthy': 720, 'soo': 721, 'poor': 722, 'heart': 723, 'italian': 724, 'graduation': 725, 'del': 726, 'again': 727, 'pls': 728, '13': 729, 'speaking': 730, 'world': 731, 'cork': 732, '4m': 733, 'waitress': 734, 'absolutely': 735, 'routine': 736, 'waiting': 737, 'feeling': 738, 'neither': 739, 'coach': 740, 'lucy': 741, 'hahaha': 742, 'saw': 743, 'attend': 744, 'mm': 745, 'debt': 746, 'completed': 747, 'breed': 748, '46': 749, 'challenge': 750, 'intelligence': 751, 'idiot': 752, 'show': 753, 'wassup': 754, 'dish': 755, 'times': 756, 'dancing': 757, 'espn': 758, 'worst': 759, 'bba': 760, 'social': 761, 'heard': 762, '22': 763, 'nd': 764, 'tamil': 765, 'thumb': 766, 'rock': 767, 'kid': 768, 'learning': 769, 'songs': 770, 'hungry': 771, 'company': 772, 'smart': 773, 'chicken': 774, 'photography': 775, 'bal': 776, 'shut': 777, 'ny': 778, 'inter': 779, '2nd': 780, 'wt': 781, 'france': 782, 'mumbai': 783, 'developer': 784, 'electrician': 785, 'ping': 786, 'pong': 787, 'veg': 788, 'f9': 789, 'shepherd': 790, 'kindergarten': 791, 'tree': 792, 'pretty': 793, 'sci': 794, 'wonderful': 795, 'boobs': 796, 'shoes': 797, 'hahn': 798, 'course': 799, 'ku': 800, 'deaf': 801, 'turkey': 802, 'noodles': 803, 'photos': 804, 'save': 805, 'sell': 806, 'painting': 807, 'nyt': 808, 'glad': 809, 'finance': 810, 'mary': 811, 'lucille': 812, 'soldier': 813, '35': 814, 'jack': 815, 'racist': 816, 'mee': 817, 'bell': 818, 'dave': 819, 'anybody': 820, 'comedy': 821, 'middle': 822, 'cancer': 823, 'terrible': 824, 'whanna': 825, 'spartak': 826, 'hooligan': 827, 'leila': 828, '36': 829, 'possible': 830, 'cookies': 831, 'higher': 832, 'mans': 833, 'engeneer': 834, 'supportive': 835, 'meditation': 836, 'spirituality': 837, 'quit': 838, 'overworked': 839, 'allready': 840, 'mickey': 841, 'mouse': 842, 'trauma': 843, 'dealer': 844, 'retail': 845, 'chop': 846, 'apologise': 847, 'tall': 848, 'parent': 849, 'died': 850, 'readings': 851, 'technician': 852, 'resturant': 853, 'sea': 854, 'pupil': 855, 'twelve': 856, 'super': 857, 'powers': 858, 'wher': 859, 'margarita': 860, 'garlik': 861, 'bread': 862, 'intersting': 863, 'putin': 864, 'honor': 865, 'hatiko': 866, 'twenties': 867, 'programmer': 868, 'mind': 869, 'deal': 870, 'bleat': 871, 'alcoholic': 872, 'realy': 873, 'ou': 874, 'true': 875, 'came': 876, 'artist': 877, 'scarlett': 878, 'johanson': 879, 'byr': 880, 'feom': 881, 'swift': 882, 'husband': 883, 'intelligent': 884, 'hiphop': 885, 'donyou': 886, 'their': 887, 'teste': 888, 'online': 889, 'eh': 890, 'coloring': 891, 'paint': 892, 'wooden': 893, 'walls': 894, 'superhero': 895, 'definetely': 896, 'way': 897, 'shape': 898, 'called': 899, 'avatar': 900, 'halo': 901, 'excited': 902, 'cam': 903, 'walk': 904, 'fires': 905, 'mmm': 906, 'yep': 907, 'latin': 908, 'american': 909, 'literature': 910, 'explain': 911, 'doctro': 912, 'local': 913, 'specs': 914, 'finished': 915, 'bird': 916, 'julie': 917, 'silly': 918, 'cow': 919, 'baseball': 920, 'heavy': 921, 'anymore': 922, 'irregularly': 923, 'retriever': 924, 'isn': 925, 'howdy': 926, 'stranger': 927, 'siblings': 928, 'contour': 929, 'tres': 930, 'bien': 931, 'intensive': 932, 'difficult': 933, 'close': 934, 'fresh': 935, 'horrible': 936, 'recently': 937, 'grew': 938, 'south': 939, 'seriously': 940, 'art': 941, 'chicago': 942, 'running': 943, 'stuff': 944, 'rolling': 945, 'stones': 946, 'zzzz': 947, 'colour': 948, 'nigga': 949, 'enought': 950, 'heeeeeeey': 951, 'wwaiting': 952, 'perfect': 953, 'hummus': 954, 'mushrooms': 955, 'fluent': 956, 'yoy': 957, 'teachers': 958, 'fallen': 959, 'trafficer': 960, 'transgender': 961, 'grand': 962, 'x': 963, 'trump': 964, 'fair': 965, 'enough': 966, 'agree': 967, 'role': 968, 'sexual': 969, 'preference': 970, 'gway': 971, 'beiber': 972, 'greystones': 973, 'attitude': 974, 'plant': 975, 'bombs': 976, 'trees': 977, 'motorbike': 978, 'femenist': 979, 'lgbt': 980, 'chaurma': 981, 'civic': 982, 'tough': 983, 'beer': 984, 'vine': 985, 'ben': 986, 'tiger': 987, 'someone': 988, 'rubber': 989, 'papaya': 990, 'awfull': 991, 'dead': 992, 'whacha': 993, 'doin': 994, 'kek': 995, 'meth': 996, 'cocain': 997, 'bots': 998, 'sun': 999, 'belgia': 1000, 'fire': 1001, 'spell': 1002, 'producer': 1003, 'midwest': 1004, 'castles': 1005, 'florida': 1006, 'mediate': 1007, 'laboratory': 1008, 'watermelon': 1009, 'complain': 1010, 'release': 1011, 'salary': 1012, 'shopkeeper': 1013, 'dancer': 1014, 'messenger': 1015, 'mail': 1016, 'yas': 1017, 'message': 1018, 'lime': 1019, 'curly': 1020, 'puzhingi': 1021, 'thinno': 1022, 'weed': 1023, 'youtuber': 1024, 'kiss': 1025, 'pajama': 1026, 'khol': 1027, 'phir': 1028, 'nem': 1029, 'apka': 1030, 'nama': 1031, 'kia': 1032, 'aacha': 1033, 'khuch': 1034, 'nahi': 1035, 'ajay': 1036, 'plzzz': 1037, 'wrestler': 1038, 'hotel': 1039, 'bathroom': 1040, 'km': 1041, 'chees': 1042, 'studding': 1043, 'forgive': 1044, 'shoe': 1045, 'dicks': 1046, 'tonight': 1047, 'dating': 1048, 'penny': 1049, 'may': 1050, 'hifi': 1051, 'achaa': 1052, 'p': 1053, 'yum': 1054, 'boxer': 1055, 'horse': 1056, 'urs': 1057, 'fuckinh': 1058, 'factory': 1059, 'hilly': 1060, 'places': 1061, 'mature': 1062, 'playboy': 1063, 'ladies': 1064, 'battle': 1065, 'royal': 1066, 'sentry': 1067, 'yoga': 1068, 'classes': 1069, 'gorgeous': 1070, 'stick': 1071, 'racer': 1072, 'motorcyclist': 1073, 'bola': 1074, 'shikat': 1075, 'ahe': 1076, 'sadya': 1077, 'ky': 1078, 'smjl': 1079, 'tumch': 1080, 'runway': 1081, 's2u': 1082, 'third': 1083, 'profession': 1084, 'goodnight': 1085, 'makes': 1086, 'sense': 1087, 'men': 1088, 'gand': 1089, 'maara': 1090, 'needn': 1091, 'noo': 1092, 'spiritual': 1093, 'without': 1094, 'exam': 1095, '8th': 1096, 'tru': 1097, 'lesbian': 1098, 'strangers': 1099, 'ah': 1100, 'yohr': 1101, 'propose': 1102, 'madarchod': 1103, 'drums': 1104, 'journey': 1105, 'hy': 1106, 'byy': 1107, 'churches': 1108, 'relax': 1109, 'around': 1110, 'backpropagating': 1111, 'errors': 1112, 'river': 1113, 'frm': 1114, 'guinea': 1115, 'pig': 1116, 'seem': 1117, 'inactive': 1118, 'share': 1119, 'details': 1120, 'software': 1121, 'couple': 1122, 'romentic': 1123, 'town': 1124, 'courier': 1125, 'offive': 1126, 'gen': 1127, 'professionally': 1128, 'real': 1129, 'dharmik': 1130, 'graphic': 1131, 'designer': 1132, 'wanna': 1133, 'resume': 1134, 'robotics': 1135, 'hollywood': 1136, 'moy': 1137, 'choice': 1138, 'present': 1139, 'practice': 1140, 'presently': 1141, 'btech': 1142, 'nyce': 1143, 'ju': 1144, 'pg': 1145, 'currently': 1146, 'nthg': 1147, 'flower': 1148, 'plants': 1149, 'relaxing': 1150, 'tqq': 1151, 'happiness': 1152, 'hm': 1153, 'fuking': 1154, 'nancy': 1155, 'ziggy': 1156, '26': 1157, 'roo': 1158, 'germany': 1159, 'properly': 1160, 'prejudice': 1161, 'gm': 1162, 'poker': 1163, 'mata': 1164, 'thnk': 1165, 'beth': 1166, 'ol': 1167, 'form': 1168, 'win': 1169, 'yeeee': 1170, 'nursing': 1171, 'strong': 1172, 'superb': 1173, 'rs': 1174, 'engit': 1175, 'increase': 1176, 'efficiency': 1177, 'design': 1178, 'busss': 1179, 'hbu': 1180, 'costomer': 1181, 'has': 1182, 'parrot': 1183, 'services': 1184, 'easy': 1185, 'continue': 1186, 'helpful': 1187, 'unemployment': 1188, 'lucknow': 1189, 'ma': 1190, 'self': 1191, 'mechanical': 1192, 'clash': 1193, 'clan': 1194, 'sound': 1195, 'hel': 1196, 'housekeeper': 1197, 'ooooooooh': 1198, 'ones': 1199, 'frozen': 1200, 'hairdresser': 1201, 'bolo': 1202, 'huge': 1203, 'issue': 1204, 'trick': 1205, 'earn': 1206, 'illl': 1207, 'goo': 1208, 'far': 1209, 'eleectrian': 1210, 'employed': 1211, 'supermarket': 1212, 'vocapation': 1213, 'bred': 1214, 'noumber': 1215, 'haii': 1216, 'prem': 1217, 'dude': 1218, 'pahadi': 1219, 'mountain': 1220, 'biking': 1221, 'market': 1222, 'achoo': 1223, 'gg': 1224, 'date': 1225, 'uttrakand': 1226, 'haridwar': 1227, '11th': 1228, 'surgery': 1229, 'scroll': 1230, 'gracias': 1231, 'dd': 1232, 'cindition': 1233, 'bitch': 1234, 'fortnite': 1235, '80': 1236, 'roads': 1237, 'sewing': 1238, 'shivu': 1239, 'tchaikovsky': 1240, 'charity': 1241, 'bunnies': 1242, 'laugh': 1243, 'ar': 1244, 'eyou': 1245, 'sunbath': 1246, 'russian': 1247, 'russhian': 1248, 'stuped': 1249, 'ufa': 1250, 'ere': 1251, 'wargames': 1252, 'chandan': 1253, 'persuing': 1254, 'rice': 1255, 'taste': 1256, 'fried': 1257, 'baked': 1258, 'rural': 1259, 'area': 1260, 'preety': 1261, 'mma': 1262, 'fight': 1263, 'haryana': 1264, 'driving': 1265, 'craft': 1266, 'reside': 1267, 'usa': 1268, 'wok': 1269, 'pics': 1270, 'another': 1271, 'perr': 1272, 'peer': 1273, 'seperated': 1274, 'separated': 1275, '16': 1276, 'sc': 1277, 'lekin': 1278, 'kqise': 1279, 'kru': 1280, 'keep': 1281, 'truth': 1282, 'sales': 1283, 'diamond': 1284, 'tattoos': 1285, '6': 1286, 'meeting': 1287, 'chal': 1288, 'bhhag': 1289, 'bc': 1290, 'waiteress': 1291, 'dat': 1292, 'ready': 1293, 'conversational': 1294, 'tables': 1295, 'serve': 1296, 'brother': 1297, 'forward': 1298, 'uer': 1299, 'changing': 1300, '27': 1301, 'redhead': 1302, 'outside': 1303, 'gardening': 1304, 'magical': 1305, 'become': 1306, 'dad': 1307, 'ss': 1308, 'capital': 1309, 'paharganj': 1310, 'shillong': 1311, 'majoring': 1312, 'hunt': 1313, 'delivery': 1314, 'met': 1315, 'ntg': 1316, 'done': 1317, 'frd': 1318, 'zen': 1319, 'luck': 1320, 'feel': 1321, 'yono': 1322, 'yeaa': 1323, 'meeto': 1324, 'result': 1325, 'hav': 1326, 'pursuing': 1327, 'b': 1328, 'com': 1329, 'action': 1330, 'romantic': 1331, 'bmw': 1332, 'baby': 1333, 'urdu': 1334, 'several': 1335, 'aunty': 1336, 'app': 1337, 'kha': 1338, 'se': 1339, 'jat': 1340, 'sen': 1341, 'sec': 1342, 'kaithal': 1343, 'painted': 1344, 'pictures': 1345, 'biggest': 1346, 'wat': 1347, 'trainer': 1348, 'oookkk': 1349, 'bcom': 1350, 'pharmacy': 1351, 'q': 1352, 'v': 1353, 'e': 1354, 'mc2': 1355, 'bore': 1356, 'kay': 1357, 'kare': 1358, 'rha': 1359, 'freeze': 1360, 'limbus': 1361, 'fvrt': 1362, 'lawyers': 1363, 'counrty': 1364, 'tells': 1365, 'kgkdusu': 1366, 'power': 1367, 'grid': 1368, 'chl': 1369, 'sala': 1370, 'christianity': 1371, 'dukan': 1372, 'dekhna': 1373, 'pasand': 1374, 'haraam': 1375, 'kyu': 1376, 'biriyani': 1377, 'lion': 1378, 'fail': 1379, 'taught': 1380, 'ten': 1381, 'tailor': 1382, 'wtf': 1383, 'hell': 1384, 'damn': 1385, 'getlost': 1386, 'disturbance': 1387, 'animaos': 1388, 'poady': 1389, 'kalanjitt': 1390, 'podey': 1391, 'onn': 1392, 'ohk': 1393, 'months': 1394, 'sarah': 1395, 'persue': 1396, 'banking': 1397, 'apple': 1398, 'media': 1399, 'geard': 1400, 'neapl': 1401, 'myself': 1402, 'tamio': 1403, 'french': 1404, 'thumbs': 1405, 'bihar': 1406, 'born': 1407, 'erm': 1408, 'space': 1409, 'pop': 1410, 'amsterdam': 1411, 'check': 1412, 'iq': 1413, 'level': 1414, 'clothes': 1415, 'stylish': 1416, 'unique': 1417, 'short': 1418, 'skirts': 1419, 'songle': 1420, 'high': 1421, 'maintenance': 1422, 'standard': 1423, 'snorkeling': 1424, 'abot': 1425, 'most': 1426, 'thrones': 1427, 'hairs': 1428, 'chest': 1429, 'leg': 1430, 'jock': 1431, 'boaring': 1432, 'massage': 1433, 'agra': 1434, 'retirement': 1435, 'waiter': 1436, 'naa': 1437, 'fancy': 1438, 'chuttiyq': 1439, 'nyc': 1440, '11': 1441, 'mentioned': 1442, 'above': 1443, 'conversion': 1444, 'govt': 1445, 'belong': 1446, 'punjab': 1447, 'punjabi': 1448, 'unarried': 1449, 'unmarried': 1450, 'suggest': 1451, 'exercise': 1452, 'history': 1453, 'frankie': 1454, 'annabelle': 1455, 'nickname': 1456, 'volunteer': 1457, 'wasn': 1458, 'expert': 1459, 'survival': 1460, 'pull': 1461, 'push': 1462, 'fickle': 1463, 'fruits': 1464, 'crazy': 1465, 'sry': 1466, 'sweet': 1467, 'dreams': 1468, 'toronto': 1469, 'etc': 1470, 'slow': 1471, 'minute': 1472, 'past': 1473, 'texts': 1474, 'value': 1475, 'ltd': 1476, 'hole': 1477, 'dud': 1478, 'expensive': 1479, 'orly': 1480, 'rost': 1481, 'background': 1482, 'extra': 1483, 'compliment': 1484, 'yyrr': 1485, 'emotional': 1486, 'security': 1487, 'supar': 1488, 'futur': 1489, 'travis': 1490, 'add': 1491, 'kalpesh': 1492, 'adulkar': 1493, 'basic': 1494, 'yaaa': 1495, 'death': 1496, 'g': 1497, 'congratulations': 1498, 'd': 1499, 'exited': 1500, 'ocean': 1501, 'nooh': 1502, 'starcraft': 1503, 'bffs': 1504, 'wand': 1505, 'hubby': 1506, 'tnx': 1507, 'babysitter': 1508, 'umm': 1509, 'commerce': 1510, 'studies': 1511, 'move': 1512, 'miscommunicated': 1513, 'park': 1514, 'robots': 1515, 'gtfo': 1516, 'by3': 1517, 'medal': 1518, 'hats': 1519, 'china': 1520, 'म': 1521, 'भ': 1522, 'रत': 1523, 'स': 1524, 'ह': 1525, 'volleyball': 1526, 'defender': 1527, 'visit': 1528, 'account': 1529, 'jane': 1530, 'twenty': 1531, 'yr': 1532, 'older': 1533, 'office': 1534, 'photographer': 1535, 'sock': 1536, 'instrument': 1537, 'drum': 1538, 'y': 1539, 'mi': 1540, 'dum': 1541, 'indor': 1542, 'np': 1543, 'wht': 1544, 'guns': 1545, 'watts': 1546, 'relationship': 1547, 'virgin': 1548, 'sambhu': 1549, 'officially': 1550, 'sundegarh': 1551, 'pta': 1552, 'web': 1553, 'table': 1554, 'surf': 1555, 'painful': 1556, 'melon': 1557, 'imagine': 1558, 'fever': 1559, 'george': 1560, 'final': 1561, 'chocolate': 1562, 'frds': 1563, 'aaa': 1564, 'foody': 1565, 'skier': 1566, 'child': 1567, 'interior': 1568, 'designing': 1569, 'chicks': 1570, 'vikas': 1571, 'weekend': 1572, 'hloo': 1573, 'marathon': 1574, 'po': 1575, 'myre': 1576, 'four': 1577, 'uh': 1578, 'sumit': 1579, 'whtsp': 1580, 'stay': 1581, 'private': 1582, 'diet': 1583, 'ga': 1584, 'state': 1585, 'triumph': 1586, 'chasing': 1587, 'kimono': 1588, 'lizards': 1589, 'telling': 1590, 'lazy': 1591, 'lazz': 1592, 'questions': 1593, 'head': 1594, 'bed': 1595, 'voilet': 1596, 'wrong': 1597, 'android': 1598, 'applications': 1599, 'according': 1600, 'suitability': 1601, 'garden': 1602, 'mango': 1603, 'gives': 1604, 'tasty': 1605, 'fruit': 1606, 'summer': 1607, 'tomatoes': 1608, 'toaster': 1609, 'hoe': 1610, 'visited': 1611, 'foods': 1612, 'won': 1613, 'berlin': 1614, 'inception': 1615, 'godfather': 1616, 'haven': 1617, 'crafting': 1618, 'beg': 1619, 'guitarist': 1620, '5': 1621, 'bds': 1622, 'violin': 1623, 'messed': 1624, 'adam': 1625, 'alabama': 1626, 'lose': 1627, 'lovelife': 1628, 'blady': 1629, 'bastard': 1630, 'trooper': 1631, 'thnx': 1632, 'nevada': 1633, 'bhusawal': 1634, 'response': 1635, 'pickup': 1636, '10th': 1637, '3kids': 1638, 'meaning': 1639, 'boys': 1640, 'haaa': 1641, 'failed': 1642, 'haaaaa': 1643, 'specific': 1644, 'sis': 1645, 'robert': 1646, 'bijoy': 1647, 'undergraduate': 1648, 'musics': 1649, 'violinist': 1650, 'atlanta': 1651, 'omg': 1652, 'knows': 1653, 'scared': 1654, 'clown': 1655, 'cause': 1656, 'shepherds': 1657, 'naah': 1658, 'nooo': 1659, 'turned': 1660, 'last': 1661, 'month': 1662, 'reminds': 1663, 'bodmas': 1664, 'sucking': 1665, 'sahi': 1666, 'tera': 1667, 'bhai': 1668, 'war': 1669, 'grill': 1670, 'gandu': 1671, 'loda': 1672, 'once': 1673, 'tatti': 1674, 'delicious': 1675, 'yess': 1676, 'bhang': 1677, 'bhosda': 1678, 'okkk': 1679, 'allahabad': 1680, 'borrow': 1681, 'burn': 1682, 'phew': 1683, 'unwind': 1684, 'kmc': 1685, 'special': 1686, 'divorce': 1687, 'llb': 1688, 'whore': 1689, 'classical': 1690, 'follow': 1691, 'church': 1692, 'illiterate': 1693, 'alan': 1694, 'turing': 1695, 'hiiii': 1696, 'situated': 1697, 'general': 1698, 'line': 1699, 'pope': 1700, 'purpose': 1701, 'climbing': 1702, 'meanings': 1703, 'gd': 1704, 'bhubaneswar': 1705, 'novels': 1706, 'poday': 1707, 'key': 1708, 'west': 1709, 'ahaa': 1710, 'edhokke': 1711, 'ariyanam': 1712, 'okey': 1713, 'ago': 1714, 'native': 1715, 'mobile': 1716, 'legend': 1717, 'swimmer': 1718, 'jet': 1719, 'opinion': 1720, 'dark': 1721, 'tony': 1722, 'beat': 1723, 'burger': 1724, '9': 1725, 'snow': 1726, 'lamb': 1727, 'seven': 1728, 'fool': 1729, 'classic': 1730, 'laro': 1731, 'van': 1732, 'nepali': 1733, 'cell': 1734, 'impossible': 1735, 'weather': 1736, 'hallo': 1737, 'gine': 1738, 'lovely': 1739, 'adventurist': 1740, 'lonely': 1741, 'animals': 1742, 'eminem': 1743, 'seems': 1744, 'stuck': 1745, 'twice': 1746, 'hmmm': 1747, 'jersey': 1748, 'rajasthan': 1749, 'collage': 1750, 'care': 1751, 'olympic': 1752, 'pool': 1753, 'rewarding': 1754, 'lives': 1755, 'jharkhand': 1756, 'accountant': 1757, 'steak': 1758, 'religious': 1759, 'phi': 1760, 'fro': 1761, 'michael': 1762, 'jackson': 1763, 'knw': 1764, 'pussy': 1765, 'wine': 1766, 'looks': 1767, 'contact': 1768, '54': 1769, 'america': 1770, 'available': 1771, 'claire': 1772, 'youba': 1773, 'mc': 1774, 'hiya': 1775, 'service': 1776, 'uoy': 1777, 'teem': 1778, 'ot': 1779, 'ecin': 1780, 'ycul': 1781, '42': 1782, 'steve': 1783, 'haribo': 1784, 'dialog': 1785, 'sent': 1786, 'fucked': 1787, '9th': 1788, 'koshar': 1789, 'week': 1790, 'ankia': 1791, 'akhmatova': 1792, 'bisexual': 1793, 'coca': 1794, 'cola': 1795, 'drinks': 1796, 'bruno': 1797, 'mars': 1798, 'bieber': 1799, 'lamborghini': 1800, 'aventador': 1801, 'rolls': 1802, 'royce': 1803, 'detective': 1804, 'favorites': 1805, 'assholes': 1806, '<sos>': 1809, '<eos>': 1809}\n"
          ]
        }
      ]
    },
    {
      "cell_type": "code",
      "source": [
        "# Cambio los índices de <sos> y <eos>\n",
        "word2idx_outputs['<sos>'] = 1807  # Establecemos <sos> en 1807\n",
        "word2idx_outputs['<eos>'] = 1808  # Establecemos <eos> en 1808\n",
        "\n",
        "# Verificamos el diccionario después de los cambios\n",
        "print(\"Diccionario después de cambios:\", word2idx_outputs)"
      ],
      "metadata": {
        "colab": {
          "base_uri": "https://localhost:8080/"
        },
        "id": "Ji-M4kGTJBUt",
        "outputId": "9a8146db-f1a5-4b71-d63d-7bcd266cbd35"
      },
      "execution_count": null,
      "outputs": [
        {
          "output_type": "stream",
          "name": "stdout",
          "text": [
            "Diccionario después de cambios: {'eos': 1, 'sos': 2, 'you': 3, 'i': 4, 'do': 5, 'what': 6, 'a': 7, 'are': 8, 'to': 9, 'for': 10, 'how': 11, 'am': 12, 'living': 13, 'like': 14, 'love': 15, 'have': 16, 'is': 17, 'm': 18, 'your': 19, 'read': 20, 'hello': 21, 'oh': 22, 'good': 23, 'that': 24, 'hi': 25, 'it': 26, 'the': 27, 'any': 28, 'not': 29, 'yes': 30, 'u': 31, 'and': 32, 'work': 33, 'about': 34, 'me': 35, 's': 36, 'in': 37, 'no': 38, 'my': 39, 'ok': 40, 'fine': 41, 'from': 42, 'today': 43, 'of': 44, 'hobbies': 45, 'doing': 46, 't': 47, 'where': 48, 'name': 49, 'play': 50, 'too': 51, 'go': 52, 'so': 53, 'well': 54, 'see': 55, 'great': 56, 'don': 57, 'favorite': 58, 'bye': 59, 'pets': 60, 'nice': 61, 'know': 62, 'there': 63, 'at': 64, 'hey': 65, 'why': 66, 'can': 67, 'sure': 68, 'live': 69, 'cool': 70, 'fun': 71, 'thanks': 72, 'old': 73, 'games': 74, 'beach': 75, 'job': 76, 'tell': 77, 'with': 78, 'student': 79, 'mean': 80, 'sorry': 81, 'girl': 82, 'up': 83, 'video': 84, 'vegan': 85, 'day': 86, 'city': 87, 'nothing': 88, 'cook': 89, 'studying': 90, 'lot': 91, 'be': 92, 'food': 93, 'wow': 94, 'really': 95, 'okay': 96, 'also': 97, 'r': 98, 'dog': 99, 'kind': 100, 'color': 101, 'want': 102, 'yeah': 103, 'as': 104, 'just': 105, 'music': 106, 've': 107, 'hate': 108, 'now': 109, 'or': 110, 'one': 111, 'india': 112, 'books': 113, 'doctor': 114, 'say': 115, 'movies': 116, 'study': 117, 'which': 118, 'fuck': 119, 'kids': 120, 'but': 121, 'thank': 122, 'dogs': 123, 'friends': 124, 'very': 125, 'teacher': 126, 'ur': 127, 'who': 128, 'was': 129, 'hear': 130, 'will': 131, 'eat': 132, 'hope': 133, 'because': 134, 'ya': 135, 'they': 136, 'he': 137, 'all': 138, 'n': 139, 'cali': 140, 'whats': 141, 'school': 142, 'store': 143, 'talk': 144, 'grocery': 145, 'lol': 146, 'same': 147, 'sounds': 148, 'k': 149, 'hii': 150, 'going': 151, 'watch': 152, 'thing': 153, 'this': 154, 'female': 155, 'night': 156, 'help': 157, 'coffee': 158, 'cat': 159, 'end': 160, 'think': 161, 'many': 162, 'get': 163, 'send': 164, 'im': 165, 'them': 166, 'man': 167, 'ask': 168, 'sex': 169, 'new': 170, 'did': 171, 'boy': 172, 'kill': 173, 'never': 174, 'an': 175, 'time': 176, 'got': 177, 'teach': 178, 'enjoy': 179, 'yourself': 180, 'meet': 181, 'then': 182, 'two': 183, 'swim': 184, 'we': 185, 'married': 186, 'speak': 187, 'right': 188, 'much': 189, 'yours': 190, 'age': 191, 'bad': 192, 'united': 193, 'states': 194, 'something': 195, 'awesome': 196, 'understand': 197, 'pizza': 198, 'asking': 199, 'book': 200, 'cats': 201, 'sing': 202, 'single': 203, 'number': 204, 'ha': 205, 'hindi': 206, 'else': 207, 'sleep': 208, 'need': 209, 'please': 210, 'she': 211, 'on': 212, 'call': 213, 'blue': 214, 'movie': 215, 'game': 216, 'bot': 217, 'big': 218, 'talking': 219, '32': 220, 'retired': 221, 'll': 222, 'army': 223, 'make': 224, 'home': 225, 'math': 226, 'ohh': 227, 'mine': 228, 'bro': 229, 'been': 230, 'happened': 231, 'answer': 232, 'year': 233, 'would': 234, 'dance': 235, 'already': 236, 'funny': 237, 'gym': 238, 'always': 239, 'band': 240, 'pet': 241, 'major': 242, 'business': 243, 'fan': 244, 'favourite': 245, 'best': 246, 'dont': 247, 'off': 248, 'sir': 249, 'means': 250, 'eating': 251, 'later': 252, 'years': 253, 'cricket': 254, 'reading': 255, 'some': 256, 'said': 257, 'only': 258, 'horses': 259, 'chat': 260, 'family': 261, 'hobby': 262, 'english': 263, 'things': 264, 'girls': 265, '2': 266, 'here': 267, 'soon': 268, 'more': 269, 'when': 270, 'were': 271, 'grow': 272, 'science': 273, 'gay': 274, 'fucking': 275, 'drive': 276, 'parents': 277, 'grade': 278, 'three': 279, 'does': 280, 'us': 281, 'working': 282, 'start': 283, '18': 284, 'her': 285, 'musician': 286, 'nurse': 287, 'hair': 288, 'had': 289, 'male': 290, 'chatting': 291, 'red': 292, 'delhi': 293, 'chip': 294, 'car': 295, 'twitch': 296, 'guess': 297, 'york': 298, 'told': 299, 'song': 300, 'black': 301, 'mom': 302, 'subject': 303, 'haha': 304, 'children': 305, 'next': 306, 'person': 307, 'singer': 308, 'hlw': 309, 'woman': 310, 'gud': 311, 'fast': 312, 'travel': 313, 'mother': 314, 'its': 315, 'give': 316, 'life': 317, 'bees': 318, 'anything': 319, 'indian': 320, 'sports': 321, 'beautiful': 322, 'football': 323, 'named': 324, '3': 325, 'riverside': 326, 'yo': 327, 'him': 328, '30': 329, 'pobox': 330, 'eyes': 331, 'cars': 332, 'boyfriend': 333, 'clowns': 334, 'mexican': 335, 'lover': 336, 're': 337, 'drink': 338, 'thats': 339, 'run': 340, 'hmm': 341, 'finish': 342, 'interesting': 343, 'watching': 344, 'soccer': 345, '25': 346, 'playing': 347, 'joke': 348, 'college': 349, 'question': 350, 'story': 351, 'robot': 352, 'women': 353, 'hiii': 354, 'iam': 355, 'tacos': 356, 'haa': 357, 'hai': 358, 'chess': 359, 'own': 360, 'class': 361, '20': 362, 'reply': 363, 'bank': 364, 'country': 365, 'listen': 366, 'looking': 367, 'still': 368, 'plz': 369, 'morning': 370, 'john': 371, 'dear': 372, 'either': 373, 'yaa': 374, 'california': 375, 'magic': 376, 'genre': 377, 'horror': 378, 'bake': 379, 'fly': 380, 'let': 381, 'animal': 382, 'could': 383, 'didn': 384, 'every': 385, 'shopping': 386, 'kinds': 387, 'place': 388, 'shop': 389, 'gender': 390, 'watches': 391, 'tennis': 392, 'cooking': 393, 'lost': 394, 'back': 395, 'better': 396, 'friend': 397, 'being': 398, 'aren': 399, 'languages': 400, 'happy': 401, 'chef': 402, 'grey': 403, 'use': 404, 'try': 405, 'beatles': 406, 'stop': 407, 'singing': 408, 'learn': 409, 'hlo': 410, 'photo': 411, 'those': 412, 'asshole': 413, 'appreciate': 414, 'farmer': 415, 'engineer': 416, 'gf': 417, 'pubg': 418, 'okk': 419, 'both': 420, '21': 421, 'hospital': 422, 'bout': 423, 'goes': 424, '12': 425, 'long': 426, 'german': 427, 'yup': 428, 'ride': 429, 'yea': 430, 'nope': 431, 'tv': 432, 'ooo': 433, 'father': 434, '19': 435, 'idea': 436, 'id': 437, 'maybe': 438, 'wearing': 439, 'hat': 440, 'amazing': 441, 'topic': 442, 'taco': 443, 'c': 444, 'problem': 445, 'purple': 446, 'o': 447, '17': 448, 'anyone': 449, 'ever': 450, 'come': 451, 'sad': 452, 'seen': 453, 'actually': 454, 'bf': 455, 'fish': 456, 'meat': 457, 'conversation': 458, 'librarian': 459, 'must': 460, 'brown': 461, 'player': 462, 'sometimes': 463, 'metal': 464, 'alright': 465, 'colorado': 466, 'part': 467, 'leave': 468, 'everything': 469, 'by': 470, 'respect': 471, 'winter': 472, 'rap': 473, 'harry': 474, 'potter': 475, 'star': 476, 'wars': 477, 'facebook': 478, 'money': 479, 'correct': 480, 'navy': 481, 'shipyard': 482, 'orange': 483, 'take': 484, 'hard': 485, 'riding': 486, 'green': 487, 'fn': 488, 'first': 489, 'teek': 490, 'kaam': 491, 'begin': 492, 'free': 493, 'suck': 494, 'dick': 495, 'die': 496, 'disney': 497, 'pleasure': 498, 'language': 499, 'traveling': 500, 'mike': 501, 'breathing': 502, 'degree': 503, 'engineering': 504, 'though': 505, 'his': 506, 'pink': 507, 'pic': 508, 'wish': 509, 'human': 510, 'vacation': 511, 'hyy': 512, 'walking': 513, 'comedian': 514, 'bike': 515, 'house': 516, 'shows': 517, 'partner': 518, 'bt': 519, 'happen': 520, 'restaurant': 521, 'chinese': 522, 'helo': 523, 'labrador': 524, 'busy': 525, 'wait': 526, 'find': 527, 'marketing': 528, 'pardon': 529, 'jobs': 530, 'wbu': 531, 'fyn': 532, 'god': 533, 'mad': 534, 'count': 535, 'cute': 536, '8': 537, 'welcome': 538, 'ohhh': 539, 'hurt': 540, 'famous': 541, 'fb': 542, 'streamer': 543, 'gas': 544, 'station': 545, 'pub': 546, 'wife': 547, 'eaten': 548, 'russia': 549, 'mon': 550, 'nowhere': 551, 'anytime': 552, 'team': 553, 'almost': 554, 'build': 555, 'houses': 556, '4': 557, 'together': 558, 'sky': 559, 'plans': 560, 'insurance': 561, 'shelter': 562, 'sara': 563, 'little': 564, 'sick': 565, 'duty': 566, '10': 567, 'surgeon': 568, '14': 569, 'names': 570, 'pork': 571, 'nah': 572, 'kidding': 573, 'goodbye': 574, 'farm': 575, 'used': 576, 'computer': 577, 'pa': 578, 'soda': 579, 'played': 580, '24': 581, 'ohio': 582, 'north': 583, 'carolina': 584, 'knit': 585, 'yellow': 586, 'stupid': 587, 'students': 588, 'prius': 589, 'boring': 590, 'peanuts': 591, 'peanut': 592, 'allergy': 593, 'swimming': 594, 'exit': 595, 'britney': 596, 'spears': 597, 'helloz': 598, 'listening': 599, 'bbye': 600, 'pregnant': 601, 'yiu': 602, 'matter': 603, 'fix': 604, 'if': 605, 'spanish': 606, 'before': 607, 'saying': 608, 'bored': 609, 'other': 610, 'piano': 611, 'hiking': 612, 'five': 613, 'sons': 614, 'should': 615, 'over': 616, 'golden': 617, 'thx': 618, 'deliver': 619, 'out': 620, 'air': 621, 'small': 622, 'boston': 623, 'alone': 624, 'weird': 625, 'normal': 626, 'went': 627, 'sexy': 628, 'honey': 629, 'meditate': 630, 'religion': 631, 'justin': 632, 'feminist': 633, 'jokes': 634, 'honda': 635, 'than': 636, 'friday': 637, 'lawyer': 638, 'sport': 639, 'toys': 640, 'larry': 641, 'sup': 642, 'vet': 643, 'drugs': 644, 'manager': 645, 'asked': 646, 'dumb': 647, 'sand': 648, 'breath': 649, 'change': 650, 'struggle': 651, 'works': 652, 'phone': 653, '1': 654, 'olakka': 655, 'health': 656, '33': 657, 'smoking': 658, 'hu': 659, 'karogi': 660, 'hobbie': 661, 'kk': 662, 'spain': 663, 'into': 664, 'girlfriend': 665, 'brat': 666, 'charlie': 667, 'leaving': 668, 'nissan': 669, 'guitar': 670, 'alaska': 671, 'ho': 672, 'nhi': 673, 'education': 674, 'such': 675, 'christ': 676, 'shit': 677, 'believe': 678, 'btw': 679, 'enjoying': 680, 'byee': 681, 'gn': 682, 'suffering': 683, 'cold': 684, 'bee': 685, 'command': 686, 'huski': 687, 'type': 688, 'yah': 689, 'woww': 690, 'sleeping': 691, 'surat': 692, 'hoo': 693, 'civil': 694, 'jus': 695, 'even': 696, 'young': 697, 'ooh': 698, 'ba': 699, 'pride': 700, 'management': 701, 'mostly': 702, 'taylor': 703, 'ohhk': 704, 'alive': 705, 'hv': 706, 'evening': 707, 'byyy': 708, 'na': 709, 'plzz': 710, 'taking': 711, 'electric': 712, 'basketball': 713, 'vegetables': 714, 'whts': 715, 'mountains': 716, 'son': 717, 'ranchi': 718, 'radar': 719, 'healthy': 720, 'soo': 721, 'poor': 722, 'heart': 723, 'italian': 724, 'graduation': 725, 'del': 726, 'again': 727, 'pls': 728, '13': 729, 'speaking': 730, 'world': 731, 'cork': 732, '4m': 733, 'waitress': 734, 'absolutely': 735, 'routine': 736, 'waiting': 737, 'feeling': 738, 'neither': 739, 'coach': 740, 'lucy': 741, 'hahaha': 742, 'saw': 743, 'attend': 744, 'mm': 745, 'debt': 746, 'completed': 747, 'breed': 748, '46': 749, 'challenge': 750, 'intelligence': 751, 'idiot': 752, 'show': 753, 'wassup': 754, 'dish': 755, 'times': 756, 'dancing': 757, 'espn': 758, 'worst': 759, 'bba': 760, 'social': 761, 'heard': 762, '22': 763, 'nd': 764, 'tamil': 765, 'thumb': 766, 'rock': 767, 'kid': 768, 'learning': 769, 'songs': 770, 'hungry': 771, 'company': 772, 'smart': 773, 'chicken': 774, 'photography': 775, 'bal': 776, 'shut': 777, 'ny': 778, 'inter': 779, '2nd': 780, 'wt': 781, 'france': 782, 'mumbai': 783, 'developer': 784, 'electrician': 785, 'ping': 786, 'pong': 787, 'veg': 788, 'f9': 789, 'shepherd': 790, 'kindergarten': 791, 'tree': 792, 'pretty': 793, 'sci': 794, 'wonderful': 795, 'boobs': 796, 'shoes': 797, 'hahn': 798, 'course': 799, 'ku': 800, 'deaf': 801, 'turkey': 802, 'noodles': 803, 'photos': 804, 'save': 805, 'sell': 806, 'painting': 807, 'nyt': 808, 'glad': 809, 'finance': 810, 'mary': 811, 'lucille': 812, 'soldier': 813, '35': 814, 'jack': 815, 'racist': 816, 'mee': 817, 'bell': 818, 'dave': 819, 'anybody': 820, 'comedy': 821, 'middle': 822, 'cancer': 823, 'terrible': 824, 'whanna': 825, 'spartak': 826, 'hooligan': 827, 'leila': 828, '36': 829, 'possible': 830, 'cookies': 831, 'higher': 832, 'mans': 833, 'engeneer': 834, 'supportive': 835, 'meditation': 836, 'spirituality': 837, 'quit': 838, 'overworked': 839, 'allready': 840, 'mickey': 841, 'mouse': 842, 'trauma': 843, 'dealer': 844, 'retail': 845, 'chop': 846, 'apologise': 847, 'tall': 848, 'parent': 849, 'died': 850, 'readings': 851, 'technician': 852, 'resturant': 853, 'sea': 854, 'pupil': 855, 'twelve': 856, 'super': 857, 'powers': 858, 'wher': 859, 'margarita': 860, 'garlik': 861, 'bread': 862, 'intersting': 863, 'putin': 864, 'honor': 865, 'hatiko': 866, 'twenties': 867, 'programmer': 868, 'mind': 869, 'deal': 870, 'bleat': 871, 'alcoholic': 872, 'realy': 873, 'ou': 874, 'true': 875, 'came': 876, 'artist': 877, 'scarlett': 878, 'johanson': 879, 'byr': 880, 'feom': 881, 'swift': 882, 'husband': 883, 'intelligent': 884, 'hiphop': 885, 'donyou': 886, 'their': 887, 'teste': 888, 'online': 889, 'eh': 890, 'coloring': 891, 'paint': 892, 'wooden': 893, 'walls': 894, 'superhero': 895, 'definetely': 896, 'way': 897, 'shape': 898, 'called': 899, 'avatar': 900, 'halo': 901, 'excited': 902, 'cam': 903, 'walk': 904, 'fires': 905, 'mmm': 906, 'yep': 907, 'latin': 908, 'american': 909, 'literature': 910, 'explain': 911, 'doctro': 912, 'local': 913, 'specs': 914, 'finished': 915, 'bird': 916, 'julie': 917, 'silly': 918, 'cow': 919, 'baseball': 920, 'heavy': 921, 'anymore': 922, 'irregularly': 923, 'retriever': 924, 'isn': 925, 'howdy': 926, 'stranger': 927, 'siblings': 928, 'contour': 929, 'tres': 930, 'bien': 931, 'intensive': 932, 'difficult': 933, 'close': 934, 'fresh': 935, 'horrible': 936, 'recently': 937, 'grew': 938, 'south': 939, 'seriously': 940, 'art': 941, 'chicago': 942, 'running': 943, 'stuff': 944, 'rolling': 945, 'stones': 946, 'zzzz': 947, 'colour': 948, 'nigga': 949, 'enought': 950, 'heeeeeeey': 951, 'wwaiting': 952, 'perfect': 953, 'hummus': 954, 'mushrooms': 955, 'fluent': 956, 'yoy': 957, 'teachers': 958, 'fallen': 959, 'trafficer': 960, 'transgender': 961, 'grand': 962, 'x': 963, 'trump': 964, 'fair': 965, 'enough': 966, 'agree': 967, 'role': 968, 'sexual': 969, 'preference': 970, 'gway': 971, 'beiber': 972, 'greystones': 973, 'attitude': 974, 'plant': 975, 'bombs': 976, 'trees': 977, 'motorbike': 978, 'femenist': 979, 'lgbt': 980, 'chaurma': 981, 'civic': 982, 'tough': 983, 'beer': 984, 'vine': 985, 'ben': 986, 'tiger': 987, 'someone': 988, 'rubber': 989, 'papaya': 990, 'awfull': 991, 'dead': 992, 'whacha': 993, 'doin': 994, 'kek': 995, 'meth': 996, 'cocain': 997, 'bots': 998, 'sun': 999, 'belgia': 1000, 'fire': 1001, 'spell': 1002, 'producer': 1003, 'midwest': 1004, 'castles': 1005, 'florida': 1006, 'mediate': 1007, 'laboratory': 1008, 'watermelon': 1009, 'complain': 1010, 'release': 1011, 'salary': 1012, 'shopkeeper': 1013, 'dancer': 1014, 'messenger': 1015, 'mail': 1016, 'yas': 1017, 'message': 1018, 'lime': 1019, 'curly': 1020, 'puzhingi': 1021, 'thinno': 1022, 'weed': 1023, 'youtuber': 1024, 'kiss': 1025, 'pajama': 1026, 'khol': 1027, 'phir': 1028, 'nem': 1029, 'apka': 1030, 'nama': 1031, 'kia': 1032, 'aacha': 1033, 'khuch': 1034, 'nahi': 1035, 'ajay': 1036, 'plzzz': 1037, 'wrestler': 1038, 'hotel': 1039, 'bathroom': 1040, 'km': 1041, 'chees': 1042, 'studding': 1043, 'forgive': 1044, 'shoe': 1045, 'dicks': 1046, 'tonight': 1047, 'dating': 1048, 'penny': 1049, 'may': 1050, 'hifi': 1051, 'achaa': 1052, 'p': 1053, 'yum': 1054, 'boxer': 1055, 'horse': 1056, 'urs': 1057, 'fuckinh': 1058, 'factory': 1059, 'hilly': 1060, 'places': 1061, 'mature': 1062, 'playboy': 1063, 'ladies': 1064, 'battle': 1065, 'royal': 1066, 'sentry': 1067, 'yoga': 1068, 'classes': 1069, 'gorgeous': 1070, 'stick': 1071, 'racer': 1072, 'motorcyclist': 1073, 'bola': 1074, 'shikat': 1075, 'ahe': 1076, 'sadya': 1077, 'ky': 1078, 'smjl': 1079, 'tumch': 1080, 'runway': 1081, 's2u': 1082, 'third': 1083, 'profession': 1084, 'goodnight': 1085, 'makes': 1086, 'sense': 1087, 'men': 1088, 'gand': 1089, 'maara': 1090, 'needn': 1091, 'noo': 1092, 'spiritual': 1093, 'without': 1094, 'exam': 1095, '8th': 1096, 'tru': 1097, 'lesbian': 1098, 'strangers': 1099, 'ah': 1100, 'yohr': 1101, 'propose': 1102, 'madarchod': 1103, 'drums': 1104, 'journey': 1105, 'hy': 1106, 'byy': 1107, 'churches': 1108, 'relax': 1109, 'around': 1110, 'backpropagating': 1111, 'errors': 1112, 'river': 1113, 'frm': 1114, 'guinea': 1115, 'pig': 1116, 'seem': 1117, 'inactive': 1118, 'share': 1119, 'details': 1120, 'software': 1121, 'couple': 1122, 'romentic': 1123, 'town': 1124, 'courier': 1125, 'offive': 1126, 'gen': 1127, 'professionally': 1128, 'real': 1129, 'dharmik': 1130, 'graphic': 1131, 'designer': 1132, 'wanna': 1133, 'resume': 1134, 'robotics': 1135, 'hollywood': 1136, 'moy': 1137, 'choice': 1138, 'present': 1139, 'practice': 1140, 'presently': 1141, 'btech': 1142, 'nyce': 1143, 'ju': 1144, 'pg': 1145, 'currently': 1146, 'nthg': 1147, 'flower': 1148, 'plants': 1149, 'relaxing': 1150, 'tqq': 1151, 'happiness': 1152, 'hm': 1153, 'fuking': 1154, 'nancy': 1155, 'ziggy': 1156, '26': 1157, 'roo': 1158, 'germany': 1159, 'properly': 1160, 'prejudice': 1161, 'gm': 1162, 'poker': 1163, 'mata': 1164, 'thnk': 1165, 'beth': 1166, 'ol': 1167, 'form': 1168, 'win': 1169, 'yeeee': 1170, 'nursing': 1171, 'strong': 1172, 'superb': 1173, 'rs': 1174, 'engit': 1175, 'increase': 1176, 'efficiency': 1177, 'design': 1178, 'busss': 1179, 'hbu': 1180, 'costomer': 1181, 'has': 1182, 'parrot': 1183, 'services': 1184, 'easy': 1185, 'continue': 1186, 'helpful': 1187, 'unemployment': 1188, 'lucknow': 1189, 'ma': 1190, 'self': 1191, 'mechanical': 1192, 'clash': 1193, 'clan': 1194, 'sound': 1195, 'hel': 1196, 'housekeeper': 1197, 'ooooooooh': 1198, 'ones': 1199, 'frozen': 1200, 'hairdresser': 1201, 'bolo': 1202, 'huge': 1203, 'issue': 1204, 'trick': 1205, 'earn': 1206, 'illl': 1207, 'goo': 1208, 'far': 1209, 'eleectrian': 1210, 'employed': 1211, 'supermarket': 1212, 'vocapation': 1213, 'bred': 1214, 'noumber': 1215, 'haii': 1216, 'prem': 1217, 'dude': 1218, 'pahadi': 1219, 'mountain': 1220, 'biking': 1221, 'market': 1222, 'achoo': 1223, 'gg': 1224, 'date': 1225, 'uttrakand': 1226, 'haridwar': 1227, '11th': 1228, 'surgery': 1229, 'scroll': 1230, 'gracias': 1231, 'dd': 1232, 'cindition': 1233, 'bitch': 1234, 'fortnite': 1235, '80': 1236, 'roads': 1237, 'sewing': 1238, 'shivu': 1239, 'tchaikovsky': 1240, 'charity': 1241, 'bunnies': 1242, 'laugh': 1243, 'ar': 1244, 'eyou': 1245, 'sunbath': 1246, 'russian': 1247, 'russhian': 1248, 'stuped': 1249, 'ufa': 1250, 'ere': 1251, 'wargames': 1252, 'chandan': 1253, 'persuing': 1254, 'rice': 1255, 'taste': 1256, 'fried': 1257, 'baked': 1258, 'rural': 1259, 'area': 1260, 'preety': 1261, 'mma': 1262, 'fight': 1263, 'haryana': 1264, 'driving': 1265, 'craft': 1266, 'reside': 1267, 'usa': 1268, 'wok': 1269, 'pics': 1270, 'another': 1271, 'perr': 1272, 'peer': 1273, 'seperated': 1274, 'separated': 1275, '16': 1276, 'sc': 1277, 'lekin': 1278, 'kqise': 1279, 'kru': 1280, 'keep': 1281, 'truth': 1282, 'sales': 1283, 'diamond': 1284, 'tattoos': 1285, '6': 1286, 'meeting': 1287, 'chal': 1288, 'bhhag': 1289, 'bc': 1290, 'waiteress': 1291, 'dat': 1292, 'ready': 1293, 'conversational': 1294, 'tables': 1295, 'serve': 1296, 'brother': 1297, 'forward': 1298, 'uer': 1299, 'changing': 1300, '27': 1301, 'redhead': 1302, 'outside': 1303, 'gardening': 1304, 'magical': 1305, 'become': 1306, 'dad': 1307, 'ss': 1308, 'capital': 1309, 'paharganj': 1310, 'shillong': 1311, 'majoring': 1312, 'hunt': 1313, 'delivery': 1314, 'met': 1315, 'ntg': 1316, 'done': 1317, 'frd': 1318, 'zen': 1319, 'luck': 1320, 'feel': 1321, 'yono': 1322, 'yeaa': 1323, 'meeto': 1324, 'result': 1325, 'hav': 1326, 'pursuing': 1327, 'b': 1328, 'com': 1329, 'action': 1330, 'romantic': 1331, 'bmw': 1332, 'baby': 1333, 'urdu': 1334, 'several': 1335, 'aunty': 1336, 'app': 1337, 'kha': 1338, 'se': 1339, 'jat': 1340, 'sen': 1341, 'sec': 1342, 'kaithal': 1343, 'painted': 1344, 'pictures': 1345, 'biggest': 1346, 'wat': 1347, 'trainer': 1348, 'oookkk': 1349, 'bcom': 1350, 'pharmacy': 1351, 'q': 1352, 'v': 1353, 'e': 1354, 'mc2': 1355, 'bore': 1356, 'kay': 1357, 'kare': 1358, 'rha': 1359, 'freeze': 1360, 'limbus': 1361, 'fvrt': 1362, 'lawyers': 1363, 'counrty': 1364, 'tells': 1365, 'kgkdusu': 1366, 'power': 1367, 'grid': 1368, 'chl': 1369, 'sala': 1370, 'christianity': 1371, 'dukan': 1372, 'dekhna': 1373, 'pasand': 1374, 'haraam': 1375, 'kyu': 1376, 'biriyani': 1377, 'lion': 1378, 'fail': 1379, 'taught': 1380, 'ten': 1381, 'tailor': 1382, 'wtf': 1383, 'hell': 1384, 'damn': 1385, 'getlost': 1386, 'disturbance': 1387, 'animaos': 1388, 'poady': 1389, 'kalanjitt': 1390, 'podey': 1391, 'onn': 1392, 'ohk': 1393, 'months': 1394, 'sarah': 1395, 'persue': 1396, 'banking': 1397, 'apple': 1398, 'media': 1399, 'geard': 1400, 'neapl': 1401, 'myself': 1402, 'tamio': 1403, 'french': 1404, 'thumbs': 1405, 'bihar': 1406, 'born': 1407, 'erm': 1408, 'space': 1409, 'pop': 1410, 'amsterdam': 1411, 'check': 1412, 'iq': 1413, 'level': 1414, 'clothes': 1415, 'stylish': 1416, 'unique': 1417, 'short': 1418, 'skirts': 1419, 'songle': 1420, 'high': 1421, 'maintenance': 1422, 'standard': 1423, 'snorkeling': 1424, 'abot': 1425, 'most': 1426, 'thrones': 1427, 'hairs': 1428, 'chest': 1429, 'leg': 1430, 'jock': 1431, 'boaring': 1432, 'massage': 1433, 'agra': 1434, 'retirement': 1435, 'waiter': 1436, 'naa': 1437, 'fancy': 1438, 'chuttiyq': 1439, 'nyc': 1440, '11': 1441, 'mentioned': 1442, 'above': 1443, 'conversion': 1444, 'govt': 1445, 'belong': 1446, 'punjab': 1447, 'punjabi': 1448, 'unarried': 1449, 'unmarried': 1450, 'suggest': 1451, 'exercise': 1452, 'history': 1453, 'frankie': 1454, 'annabelle': 1455, 'nickname': 1456, 'volunteer': 1457, 'wasn': 1458, 'expert': 1459, 'survival': 1460, 'pull': 1461, 'push': 1462, 'fickle': 1463, 'fruits': 1464, 'crazy': 1465, 'sry': 1466, 'sweet': 1467, 'dreams': 1468, 'toronto': 1469, 'etc': 1470, 'slow': 1471, 'minute': 1472, 'past': 1473, 'texts': 1474, 'value': 1475, 'ltd': 1476, 'hole': 1477, 'dud': 1478, 'expensive': 1479, 'orly': 1480, 'rost': 1481, 'background': 1482, 'extra': 1483, 'compliment': 1484, 'yyrr': 1485, 'emotional': 1486, 'security': 1487, 'supar': 1488, 'futur': 1489, 'travis': 1490, 'add': 1491, 'kalpesh': 1492, 'adulkar': 1493, 'basic': 1494, 'yaaa': 1495, 'death': 1496, 'g': 1497, 'congratulations': 1498, 'd': 1499, 'exited': 1500, 'ocean': 1501, 'nooh': 1502, 'starcraft': 1503, 'bffs': 1504, 'wand': 1505, 'hubby': 1506, 'tnx': 1507, 'babysitter': 1508, 'umm': 1509, 'commerce': 1510, 'studies': 1511, 'move': 1512, 'miscommunicated': 1513, 'park': 1514, 'robots': 1515, 'gtfo': 1516, 'by3': 1517, 'medal': 1518, 'hats': 1519, 'china': 1520, 'म': 1521, 'भ': 1522, 'रत': 1523, 'स': 1524, 'ह': 1525, 'volleyball': 1526, 'defender': 1527, 'visit': 1528, 'account': 1529, 'jane': 1530, 'twenty': 1531, 'yr': 1532, 'older': 1533, 'office': 1534, 'photographer': 1535, 'sock': 1536, 'instrument': 1537, 'drum': 1538, 'y': 1539, 'mi': 1540, 'dum': 1541, 'indor': 1542, 'np': 1543, 'wht': 1544, 'guns': 1545, 'watts': 1546, 'relationship': 1547, 'virgin': 1548, 'sambhu': 1549, 'officially': 1550, 'sundegarh': 1551, 'pta': 1552, 'web': 1553, 'table': 1554, 'surf': 1555, 'painful': 1556, 'melon': 1557, 'imagine': 1558, 'fever': 1559, 'george': 1560, 'final': 1561, 'chocolate': 1562, 'frds': 1563, 'aaa': 1564, 'foody': 1565, 'skier': 1566, 'child': 1567, 'interior': 1568, 'designing': 1569, 'chicks': 1570, 'vikas': 1571, 'weekend': 1572, 'hloo': 1573, 'marathon': 1574, 'po': 1575, 'myre': 1576, 'four': 1577, 'uh': 1578, 'sumit': 1579, 'whtsp': 1580, 'stay': 1581, 'private': 1582, 'diet': 1583, 'ga': 1584, 'state': 1585, 'triumph': 1586, 'chasing': 1587, 'kimono': 1588, 'lizards': 1589, 'telling': 1590, 'lazy': 1591, 'lazz': 1592, 'questions': 1593, 'head': 1594, 'bed': 1595, 'voilet': 1596, 'wrong': 1597, 'android': 1598, 'applications': 1599, 'according': 1600, 'suitability': 1601, 'garden': 1602, 'mango': 1603, 'gives': 1604, 'tasty': 1605, 'fruit': 1606, 'summer': 1607, 'tomatoes': 1608, 'toaster': 1609, 'hoe': 1610, 'visited': 1611, 'foods': 1612, 'won': 1613, 'berlin': 1614, 'inception': 1615, 'godfather': 1616, 'haven': 1617, 'crafting': 1618, 'beg': 1619, 'guitarist': 1620, '5': 1621, 'bds': 1622, 'violin': 1623, 'messed': 1624, 'adam': 1625, 'alabama': 1626, 'lose': 1627, 'lovelife': 1628, 'blady': 1629, 'bastard': 1630, 'trooper': 1631, 'thnx': 1632, 'nevada': 1633, 'bhusawal': 1634, 'response': 1635, 'pickup': 1636, '10th': 1637, '3kids': 1638, 'meaning': 1639, 'boys': 1640, 'haaa': 1641, 'failed': 1642, 'haaaaa': 1643, 'specific': 1644, 'sis': 1645, 'robert': 1646, 'bijoy': 1647, 'undergraduate': 1648, 'musics': 1649, 'violinist': 1650, 'atlanta': 1651, 'omg': 1652, 'knows': 1653, 'scared': 1654, 'clown': 1655, 'cause': 1656, 'shepherds': 1657, 'naah': 1658, 'nooo': 1659, 'turned': 1660, 'last': 1661, 'month': 1662, 'reminds': 1663, 'bodmas': 1664, 'sucking': 1665, 'sahi': 1666, 'tera': 1667, 'bhai': 1668, 'war': 1669, 'grill': 1670, 'gandu': 1671, 'loda': 1672, 'once': 1673, 'tatti': 1674, 'delicious': 1675, 'yess': 1676, 'bhang': 1677, 'bhosda': 1678, 'okkk': 1679, 'allahabad': 1680, 'borrow': 1681, 'burn': 1682, 'phew': 1683, 'unwind': 1684, 'kmc': 1685, 'special': 1686, 'divorce': 1687, 'llb': 1688, 'whore': 1689, 'classical': 1690, 'follow': 1691, 'church': 1692, 'illiterate': 1693, 'alan': 1694, 'turing': 1695, 'hiiii': 1696, 'situated': 1697, 'general': 1698, 'line': 1699, 'pope': 1700, 'purpose': 1701, 'climbing': 1702, 'meanings': 1703, 'gd': 1704, 'bhubaneswar': 1705, 'novels': 1706, 'poday': 1707, 'key': 1708, 'west': 1709, 'ahaa': 1710, 'edhokke': 1711, 'ariyanam': 1712, 'okey': 1713, 'ago': 1714, 'native': 1715, 'mobile': 1716, 'legend': 1717, 'swimmer': 1718, 'jet': 1719, 'opinion': 1720, 'dark': 1721, 'tony': 1722, 'beat': 1723, 'burger': 1724, '9': 1725, 'snow': 1726, 'lamb': 1727, 'seven': 1728, 'fool': 1729, 'classic': 1730, 'laro': 1731, 'van': 1732, 'nepali': 1733, 'cell': 1734, 'impossible': 1735, 'weather': 1736, 'hallo': 1737, 'gine': 1738, 'lovely': 1739, 'adventurist': 1740, 'lonely': 1741, 'animals': 1742, 'eminem': 1743, 'seems': 1744, 'stuck': 1745, 'twice': 1746, 'hmmm': 1747, 'jersey': 1748, 'rajasthan': 1749, 'collage': 1750, 'care': 1751, 'olympic': 1752, 'pool': 1753, 'rewarding': 1754, 'lives': 1755, 'jharkhand': 1756, 'accountant': 1757, 'steak': 1758, 'religious': 1759, 'phi': 1760, 'fro': 1761, 'michael': 1762, 'jackson': 1763, 'knw': 1764, 'pussy': 1765, 'wine': 1766, 'looks': 1767, 'contact': 1768, '54': 1769, 'america': 1770, 'available': 1771, 'claire': 1772, 'youba': 1773, 'mc': 1774, 'hiya': 1775, 'service': 1776, 'uoy': 1777, 'teem': 1778, 'ot': 1779, 'ecin': 1780, 'ycul': 1781, '42': 1782, 'steve': 1783, 'haribo': 1784, 'dialog': 1785, 'sent': 1786, 'fucked': 1787, '9th': 1788, 'koshar': 1789, 'week': 1790, 'ankia': 1791, 'akhmatova': 1792, 'bisexual': 1793, 'coca': 1794, 'cola': 1795, 'drinks': 1796, 'bruno': 1797, 'mars': 1798, 'bieber': 1799, 'lamborghini': 1800, 'aventador': 1801, 'rolls': 1802, 'royce': 1803, 'detective': 1804, 'favorites': 1805, 'assholes': 1806, '<sos>': 1807, '<eos>': 1808}\n"
          ]
        }
      ]
    },
    {
      "cell_type": "code",
      "source": [
        "num_decoder_tokens = len(word2idx_outputs)\n",
        "num_decoder_tokens"
      ],
      "metadata": {
        "colab": {
          "base_uri": "https://localhost:8080/"
        },
        "id": "jOVFsMo-HZFT",
        "outputId": "d8f6d9b4-8aea-4b03-828d-e70a7c3c3ff6"
      },
      "execution_count": null,
      "outputs": [
        {
          "output_type": "execute_result",
          "data": {
            "text/plain": [
              "1808"
            ]
          },
          "metadata": {},
          "execution_count": 63
        }
      ]
    },
    {
      "cell_type": "code",
      "source": [
        "max_output_len = 10\n",
        "\n",
        "# Función para decodificar la secuencia\n",
        "def decode_sequence(input_seq):\n",
        "    states_value = encoder_model_inference.predict(input_seq)\n",
        "\n",
        "    print(\"Forma de states_value:\", [s.shape for s in states_value])\n",
        "\n",
        "    target_seq = np.zeros((1, 1))\n",
        "    sos_index = word2idx_outputs.get('<sos>', None)\n",
        "    if sos_index is not None:\n",
        "        target_seq[0, 0] = sos_index\n",
        "    else:\n",
        "        print(\"Índice de <sos> no válido.\")\n",
        "        return \"Error: Token <sos> no encontrado o fuera de rango.\"\n",
        "\n",
        "    stop_condition = False\n",
        "    decoded_sentence = ''\n",
        "\n",
        "    while not stop_condition:\n",
        "        output_tokens, h, c = decoder_model_inference.predict([target_seq] + states_value)\n",
        "\n",
        "        # Imprimir la salida intermedia\n",
        "        #print(\"Output tokens:\", output_tokens)\n",
        "\n",
        "        # Introducir temperatura para suavizar la distribución\n",
        "        temperature = 0.8\n",
        "        output_tokens = output_tokens[0, -1, :]  # Solo la última predicción\n",
        "        output_tokens = np.exp(output_tokens / temperature) / np.sum(np.exp(output_tokens / temperature))\n",
        "\n",
        "        sampled_token_index = np.random.choice(len(output_tokens), p=output_tokens)\n",
        "        sampled_word = idx2word_outputs.get(sampled_token_index, '')\n",
        "\n",
        "        if sampled_word and sampled_word != '<sos>':\n",
        "            if sampled_word == '<eos>':\n",
        "                stop_condition = True\n",
        "            else:\n",
        "                decoded_sentence += ' ' + sampled_word\n",
        "\n",
        "        if len(decoded_sentence.split()) >= max_output_len:\n",
        "            stop_condition = True\n",
        "\n",
        "        target_seq[0, 0] = sampled_token_index\n",
        "        states_value = [h, c]\n",
        "\n",
        "    return decoded_sentence.strip()"
      ],
      "metadata": {
        "id": "UgZqWfTkZK8F"
      },
      "execution_count": null,
      "outputs": []
    },
    {
      "cell_type": "markdown",
      "source": [
        "Pruebas"
      ],
      "metadata": {
        "id": "X5ILOeFMbPdF"
      }
    },
    {
      "cell_type": "code",
      "source": [
        "# Preprocesamos la pregunta de prueba\n",
        "test_input_sentence = \"Do you read?\"\n",
        "test_input_seq = tokenizer_inputs.texts_to_sequences([test_input_sentence])\n",
        "test_input_seq = pad_sequences(test_input_seq, maxlen=max_input_len, padding='post')\n",
        "\n",
        "# Obtenemos la respuesta generada\n",
        "decoded_sentence = decode_sequence(test_input_seq)\n",
        "\n",
        "# Imprimimos la respuesta\n",
        "print(\"Respuesta del chatbot:\", decoded_sentence)"
      ],
      "metadata": {
        "colab": {
          "base_uri": "https://localhost:8080/"
        },
        "id": "E_lgOzqZbOaj",
        "outputId": "af1bafc8-fa7b-41f9-9454-432f5645c6a0"
      },
      "execution_count": null,
      "outputs": [
        {
          "output_type": "stream",
          "name": "stdout",
          "text": [
            "\u001b[1m1/1\u001b[0m \u001b[32m━━━━━━━━━━━━━━━━━━━━\u001b[0m\u001b[37m\u001b[0m \u001b[1m0s\u001b[0m 25ms/step\n",
            "\u001b[1m1/1\u001b[0m \u001b[32m━━━━━━━━━━━━━━━━━━━━\u001b[0m\u001b[37m\u001b[0m \u001b[1m0s\u001b[0m 34ms/step\n",
            "\u001b[1m1/1\u001b[0m \u001b[32m━━━━━━━━━━━━━━━━━━━━\u001b[0m\u001b[37m\u001b[0m \u001b[1m0s\u001b[0m 27ms/step\n",
            "\u001b[1m1/1\u001b[0m \u001b[32m━━━━━━━━━━━━━━━━━━━━\u001b[0m\u001b[37m\u001b[0m \u001b[1m0s\u001b[0m 25ms/step\n",
            "\u001b[1m1/1\u001b[0m \u001b[32m━━━━━━━━━━━━━━━━━━━━\u001b[0m\u001b[37m\u001b[0m \u001b[1m0s\u001b[0m 23ms/step\n",
            "\u001b[1m1/1\u001b[0m \u001b[32m━━━━━━━━━━━━━━━━━━━━\u001b[0m\u001b[37m\u001b[0m \u001b[1m0s\u001b[0m 25ms/step\n",
            "\u001b[1m1/1\u001b[0m \u001b[32m━━━━━━━━━━━━━━━━━━━━\u001b[0m\u001b[37m\u001b[0m \u001b[1m0s\u001b[0m 23ms/step\n",
            "\u001b[1m1/1\u001b[0m \u001b[32m━━━━━━━━━━━━━━━━━━━━\u001b[0m\u001b[37m\u001b[0m \u001b[1m0s\u001b[0m 24ms/step\n",
            "\u001b[1m1/1\u001b[0m \u001b[32m━━━━━━━━━━━━━━━━━━━━\u001b[0m\u001b[37m\u001b[0m \u001b[1m0s\u001b[0m 22ms/step\n",
            "\u001b[1m1/1\u001b[0m \u001b[32m━━━━━━━━━━━━━━━━━━━━\u001b[0m\u001b[37m\u001b[0m \u001b[1m0s\u001b[0m 22ms/step\n",
            "\u001b[1m1/1\u001b[0m \u001b[32m━━━━━━━━━━━━━━━━━━━━\u001b[0m\u001b[37m\u001b[0m \u001b[1m0s\u001b[0m 22ms/step\n",
            "Respuesta del chatbot: sports wrestler free mma chatting piano engineering harry eyou nooo\n"
          ]
        }
      ]
    },
    {
      "cell_type": "code",
      "source": [
        "# Preprocesamos la pregunta de prueba\n",
        "test_input_sentence = \"Do you have any pet?\"\n",
        "test_input_seq = tokenizer_inputs.texts_to_sequences([test_input_sentence])\n",
        "test_input_seq = pad_sequences(test_input_seq, maxlen=max_input_len, padding='post')\n",
        "# Obtenemos la respuesta generada\n",
        "decoded_sentence = decode_sequence(test_input_seq)\n",
        "# Imprimimos la respuesta\n",
        "print(\"Respuesta del chatbot:\", decoded_sentence)"
      ],
      "metadata": {
        "colab": {
          "base_uri": "https://localhost:8080/"
        },
        "id": "eR9Znrb_c6aJ",
        "outputId": "3b964fc6-eb77-4f14-95e4-80114c8dfebb"
      },
      "execution_count": null,
      "outputs": [
        {
          "output_type": "stream",
          "name": "stdout",
          "text": [
            "\u001b[1m1/1\u001b[0m \u001b[32m━━━━━━━━━━━━━━━━━━━━\u001b[0m\u001b[37m\u001b[0m \u001b[1m0s\u001b[0m 44ms/step\n",
            "Forma de states_value: [(1, 256), (1, 256)]\n",
            "\u001b[1m1/1\u001b[0m \u001b[32m━━━━━━━━━━━━━━━━━━━━\u001b[0m\u001b[37m\u001b[0m \u001b[1m0s\u001b[0m 56ms/step\n",
            "\u001b[1m1/1\u001b[0m \u001b[32m━━━━━━━━━━━━━━━━━━━━\u001b[0m\u001b[37m\u001b[0m \u001b[1m0s\u001b[0m 42ms/step\n",
            "\u001b[1m1/1\u001b[0m \u001b[32m━━━━━━━━━━━━━━━━━━━━\u001b[0m\u001b[37m\u001b[0m \u001b[1m0s\u001b[0m 38ms/step\n",
            "\u001b[1m1/1\u001b[0m \u001b[32m━━━━━━━━━━━━━━━━━━━━\u001b[0m\u001b[37m\u001b[0m \u001b[1m0s\u001b[0m 38ms/step\n",
            "\u001b[1m1/1\u001b[0m \u001b[32m━━━━━━━━━━━━━━━━━━━━\u001b[0m\u001b[37m\u001b[0m \u001b[1m0s\u001b[0m 42ms/step\n",
            "\u001b[1m1/1\u001b[0m \u001b[32m━━━━━━━━━━━━━━━━━━━━\u001b[0m\u001b[37m\u001b[0m \u001b[1m0s\u001b[0m 41ms/step\n",
            "\u001b[1m1/1\u001b[0m \u001b[32m━━━━━━━━━━━━━━━━━━━━\u001b[0m\u001b[37m\u001b[0m \u001b[1m0s\u001b[0m 41ms/step\n",
            "\u001b[1m1/1\u001b[0m \u001b[32m━━━━━━━━━━━━━━━━━━━━\u001b[0m\u001b[37m\u001b[0m \u001b[1m0s\u001b[0m 48ms/step\n",
            "\u001b[1m1/1\u001b[0m \u001b[32m━━━━━━━━━━━━━━━━━━━━\u001b[0m\u001b[37m\u001b[0m \u001b[1m0s\u001b[0m 44ms/step\n",
            "\u001b[1m1/1\u001b[0m \u001b[32m━━━━━━━━━━━━━━━━━━━━\u001b[0m\u001b[37m\u001b[0m \u001b[1m0s\u001b[0m 46ms/step\n",
            "Respuesta del chatbot: fire month banking taste bodmas finish ping trauma bt gardening\n"
          ]
        }
      ]
    },
    {
      "cell_type": "code",
      "source": [
        "# Preprocesamos la pregunta de prueba\n",
        "test_input_sentence = \"Where are you from?\"\n",
        "test_input_seq = tokenizer_inputs.texts_to_sequences([test_input_sentence])\n",
        "test_input_seq = pad_sequences(test_input_seq, maxlen=max_input_len, padding='post')\n",
        "# Obtenemos la respuesta generada\n",
        "decoded_sentence = decode_sequence(test_input_seq)\n",
        "# Imprimimos la respuesta\n",
        "print(\"Respuesta del chatbot:\", decoded_sentence)"
      ],
      "metadata": {
        "colab": {
          "base_uri": "https://localhost:8080/"
        },
        "id": "wJXoT46XdBYT",
        "outputId": "cf966c61-b262-4907-802b-7254b0658769"
      },
      "execution_count": null,
      "outputs": [
        {
          "output_type": "stream",
          "name": "stdout",
          "text": [
            "\u001b[1m1/1\u001b[0m \u001b[32m━━━━━━━━━━━━━━━━━━━━\u001b[0m\u001b[37m\u001b[0m \u001b[1m0s\u001b[0m 37ms/step\n",
            "Forma de states_value: [(1, 256), (1, 256)]\n",
            "\u001b[1m1/1\u001b[0m \u001b[32m━━━━━━━━━━━━━━━━━━━━\u001b[0m\u001b[37m\u001b[0m \u001b[1m0s\u001b[0m 37ms/step\n",
            "\u001b[1m1/1\u001b[0m \u001b[32m━━━━━━━━━━━━━━━━━━━━\u001b[0m\u001b[37m\u001b[0m \u001b[1m0s\u001b[0m 38ms/step\n",
            "\u001b[1m1/1\u001b[0m \u001b[32m━━━━━━━━━━━━━━━━━━━━\u001b[0m\u001b[37m\u001b[0m \u001b[1m0s\u001b[0m 37ms/step\n",
            "\u001b[1m1/1\u001b[0m \u001b[32m━━━━━━━━━━━━━━━━━━━━\u001b[0m\u001b[37m\u001b[0m \u001b[1m0s\u001b[0m 36ms/step\n",
            "\u001b[1m1/1\u001b[0m \u001b[32m━━━━━━━━━━━━━━━━━━━━\u001b[0m\u001b[37m\u001b[0m \u001b[1m0s\u001b[0m 35ms/step\n",
            "\u001b[1m1/1\u001b[0m \u001b[32m━━━━━━━━━━━━━━━━━━━━\u001b[0m\u001b[37m\u001b[0m \u001b[1m0s\u001b[0m 38ms/step\n",
            "\u001b[1m1/1\u001b[0m \u001b[32m━━━━━━━━━━━━━━━━━━━━\u001b[0m\u001b[37m\u001b[0m \u001b[1m0s\u001b[0m 37ms/step\n",
            "\u001b[1m1/1\u001b[0m \u001b[32m━━━━━━━━━━━━━━━━━━━━\u001b[0m\u001b[37m\u001b[0m \u001b[1m0s\u001b[0m 37ms/step\n",
            "\u001b[1m1/1\u001b[0m \u001b[32m━━━━━━━━━━━━━━━━━━━━\u001b[0m\u001b[37m\u001b[0m \u001b[1m0s\u001b[0m 44ms/step\n",
            "\u001b[1m1/1\u001b[0m \u001b[32m━━━━━━━━━━━━━━━━━━━━\u001b[0m\u001b[37m\u001b[0m \u001b[1m0s\u001b[0m 41ms/step\n",
            "Respuesta del chatbot: roads turing dick favorites fun man shopkeeper anything very it\n"
          ]
        }
      ]
    }
  ]
}